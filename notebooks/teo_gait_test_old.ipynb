{
 "cells": [
  {
   "cell_type": "markdown",
   "metadata": {},
   "source": [
    "# TEO Simulation in PyBullet"
   ]
  },
  {
   "cell_type": "markdown",
   "metadata": {},
   "source": [
    "This notebook contains an example using pybullet to perform a stability test. We will first load the robot in its initial position, enable position control and simulate for a few seconds to correct for the ability of the robot to mantain the position. Then a joint/torque sensor will be aded to the ankle to measeure the ground reaction as it performs a movement."
   ]
  },
  {
   "cell_type": "markdown",
   "metadata": {},
   "source": [
    "## Setup"
   ]
  },
  {
   "cell_type": "markdown",
   "metadata": {},
   "source": [
    "Import the necesary libraries"
   ]
  },
  {
   "cell_type": "code",
   "execution_count": 1,
   "metadata": {},
   "outputs": [],
   "source": [
    "import pybullet as p\n",
    "import numpy as np\n",
    "import pybullet_data\n",
    "import time\n",
    "from math import radians, degrees\n",
    "import os, inspect\n",
    "currentdir = os.path.dirname(os.path.abspath(inspect.getfile(inspect.currentframe())))\n",
    "parentdir = os.path.dirname(currentdir)\n",
    "urdf_root = os.path.join(parentdir,\"models\")"
   ]
  },
  {
   "cell_type": "markdown",
   "metadata": {},
   "source": [
    "Start the physics client in Graphic mode"
   ]
  },
  {
   "cell_type": "code",
   "execution_count": 2,
   "metadata": {},
   "outputs": [],
   "source": [
    "physicsClient = p.connect(p.GUI)"
   ]
  },
  {
   "cell_type": "markdown",
   "metadata": {},
   "source": [
    "Add path for PyBullet exaples and useful assets such as the ground plane "
   ]
  },
  {
   "cell_type": "code",
   "execution_count": 3,
   "metadata": {},
   "outputs": [],
   "source": [
    "p.setAdditionalSearchPath(pybullet_data.getDataPath())"
   ]
  },
  {
   "cell_type": "markdown",
   "metadata": {},
   "source": [
    "Set the gravity"
   ]
  },
  {
   "cell_type": "code",
   "execution_count": 4,
   "metadata": {},
   "outputs": [],
   "source": [
    "p.setGravity(0,0,-9.79983)"
   ]
  },
  {
   "cell_type": "markdown",
   "metadata": {},
   "source": [
    "Load the ground"
   ]
  },
  {
   "cell_type": "code",
   "execution_count": 5,
   "metadata": {},
   "outputs": [],
   "source": [
    "planeId = p.loadURDF(\"plane.urdf\")"
   ]
  },
  {
   "cell_type": "markdown",
   "metadata": {},
   "source": [
    "Load the TEO urdf file above the ground plane"
   ]
  },
  {
   "cell_type": "code",
   "execution_count": 6,
   "metadata": {},
   "outputs": [],
   "source": [
    "teoStartOrientation = p.getQuaternionFromEuler([0,0,0])\n",
    "teoStartPosition = [0,0,0.855]\n",
    "urdf_path = os.path.join(urdf_root,\"TEO.urdf\")\n",
    "teoId = p.loadURDF(urdf_path,teoStartPosition ,teoStartOrientation)"
   ]
  },
  {
   "cell_type": "markdown",
   "metadata": {},
   "source": [
    "If loaded correctly we should see all the joint names and their joint ids"
   ]
  },
  {
   "cell_type": "code",
   "execution_count": 7,
   "metadata": {
    "scrolled": false
   },
   "outputs": [
    {
     "name": "stdout",
     "output_type": "stream",
     "text": [
      "b'waist_yaw'\n",
      "b'waist_pitch'\n",
      "b'head_yaw'\n",
      "b'head_pitch'\n",
      "b'l_shoulder_pitch'\n",
      "b'l_shoulder_roll'\n",
      "b'l_shoulder_yaw'\n",
      "b'l_elbow_pitch'\n",
      "b'l_wrist_yaw'\n",
      "b'l_wrist_pitch'\n",
      "b'r_shoulder_pitch'\n",
      "b'r_shoulder_roll'\n",
      "b'r_shoulder_yaw'\n",
      "b'r_elbow_pitch'\n",
      "b'r_wrist_yaw'\n",
      "b'r_wrist_pitch'\n",
      "b'l_hip_yaw'\n",
      "b'l_hip_roll'\n",
      "b'l_hip_pitch'\n",
      "b'l_knee_pitch'\n",
      "b'l_ankle_pitch'\n",
      "b'l_ankle_roll'\n",
      "b'l_sole_joint'\n",
      "b'r_hip_yaw'\n",
      "b'r_hip_roll'\n",
      "b'r_hip_pitch'\n",
      "b'r_knee_pitch'\n",
      "b'r_ankle_pitch'\n",
      "b'r_ankle_roll'\n",
      "b'r_sole_joint'\n"
     ]
    }
   ],
   "source": [
    "n_joints = p.getNumJoints(teoId)\n",
    "name2id={}\n",
    "for i in range(n_joints):\n",
    "    name2id[p.getJointInfo(teoId,i)[1]]=i\n",
    "    print(p.getJointInfo(teoId,i)[1])"
   ]
  },
  {
   "cell_type": "markdown",
   "metadata": {},
   "source": [
    "### Define starting position"
   ]
  },
  {
   "cell_type": "markdown",
   "metadata": {},
   "source": [
    "We set the desired joint positions for the joint controllers to achieve. We also set the max force to the ones defined by the urdf and the max velocities to what we desire."
   ]
  },
  {
   "cell_type": "code",
   "execution_count": 46,
   "metadata": {},
   "outputs": [
    {
     "data": {
      "text/plain": [
       "0.0"
      ]
     },
     "execution_count": 46,
     "metadata": {},
     "output_type": "execute_result"
    }
   ],
   "source": [
    "n_joints = p.getNumJoints(teoId)\n",
    "\n",
    "jointIndices = [0] * n_joints\n",
    "targetPos = [0.0] * n_joints\n",
    "maxVelocities = [radians(1)] * n_joints\n",
    "maxForces = [0.0] * n_joints\n",
    "\n",
    "\n",
    "for i in range(n_joints):\n",
    "    jointIndices[i] = i\n",
    "    maxForces[i] = p.getJointInfo(teoId,i)[10]\n",
    "    \n",
    "    \n",
    "    if p.getJointInfo(teoId,i)[1] == 'waist_yaw':\n",
    "        targetPos[i] = 0\n",
    "    elif p.getJointInfo(teoId,i)[1] == 'r_shoulder_roll':\n",
    "        targetPos[i] = radians(-0)\n",
    "        \n",
    "    elif p.getJointInfo(teoId,i)[1] == 'r_hip_roll':\n",
    "        targetPos[i] = radians(0)\n",
    "    elif p.getJointInfo(teoId,i)[1] == 'r_hip_pitch':\n",
    "        targetPos[i] = radians(-0)\n",
    "    elif p.getJointInfo(teoId,i)[1] == 'r_knee_pitch':\n",
    "        targetPos[i] = radians(0)\n",
    "    elif p.getJointInfo(teoId,i)[1] == 'r_ankle_pitch':\n",
    "        targetPos[i] = radians(-0)\n",
    "    elif p.getJointInfo(teoId,i)[1] == 'r_ankle_roll':\n",
    "        targetPos[i] = radians(-0)\n",
    "        \n",
    "    elif p.getJointInfo(teoId,i)[1] == 'l_hip_roll':\n",
    "        targetPos[i] = radians(0)\n",
    "    elif p.getJointInfo(teoId,i)[1] == 'l_ankle_roll':\n",
    "        targetPos[i] = radians(-0)\n",
    "        \n",
    "    elif p.getJointInfo(teoId,i)[1] == 'l_shoulder_roll':\n",
    "        targetPos[i] = radians(0)\n",
    "    else:\n",
    "        targetPos[i] = 0\n",
    "\n",
    "jointIndices.pop(name2id[b'r_sole_joint'])\n",
    "jointIndices.pop(name2id[b'l_sole_joint'])\n",
    "\n",
    "targetPos.pop(name2id[b'r_sole_joint'])\n",
    "targetPos.pop(name2id[b'l_sole_joint'])\n",
    "\n",
    "maxVelocities.pop(name2id[b'r_sole_joint'])\n",
    "maxVelocities.pop(name2id[b'l_sole_joint'])\n",
    "\n",
    "maxForces.pop(name2id[b'r_sole_joint'])\n",
    "maxForces.pop(name2id[b'l_sole_joint'])\n"
   ]
  },
  {
   "cell_type": "markdown",
   "metadata": {},
   "source": [
    "We set the joint control with the created arrays and set it to position control."
   ]
  },
  {
   "cell_type": "code",
   "execution_count": 47,
   "metadata": {},
   "outputs": [],
   "source": [
    "mode = p.POSITION_CONTROL\n",
    "\n",
    "p.setJointMotorControlArray(teoId,\n",
    "                            jointIndices, \n",
    "                            controlMode=mode,\n",
    "                            forces=maxForces,\n",
    "                            targetVelocities = maxVelocities,\n",
    "                            targetPositions = targetPos\n",
    "                           )"
   ]
  },
  {
   "cell_type": "markdown",
   "metadata": {},
   "source": [
    "Advance simulation until the robot is stable"
   ]
  },
  {
   "cell_type": "markdown",
   "metadata": {},
   "source": [
    "## Gait"
   ]
  },
  {
   "cell_type": "markdown",
   "metadata": {},
   "source": [
    "#### Foot position"
   ]
  },
  {
   "cell_type": "code",
   "execution_count": 22,
   "metadata": {},
   "outputs": [],
   "source": [
    "timestep = 1/240\n",
    "p.setTimeStep(timestep)"
   ]
  },
  {
   "cell_type": "code",
   "execution_count": 11,
   "metadata": {},
   "outputs": [],
   "source": [
    "f = interpol(0,0,0,1,0,0)"
   ]
  },
  {
   "cell_type": "code",
   "execution_count": 12,
   "metadata": {},
   "outputs": [],
   "source": [
    "import matplotlib.pyplot as plt\n",
    "import numpy as np"
   ]
  },
  {
   "cell_type": "code",
   "execution_count": 67,
   "metadata": {},
   "outputs": [],
   "source": [
    "gait_step_time=5\n",
    "step_height=0.01\n",
    "step_length=0\n",
    "step_width=0\n",
    "ori_x=0\n",
    "ori_y=0\n",
    "ori_z=0\n",
    "ori_quat=p.getLinkState(teoId,name2id[b'r_sole_joint'])[1]\n",
    "def interpol(xi,xti,xtti,xf,xtf,xttf):\n",
    "    T = gait_step_time/2\n",
    "    return lambda t : (6*t**5*xf)/T**5 - (15*t**4*xf)/T**4 + (10*t**3*xf)/T**3 + xi - (6*t**5*xi)/T**5 + (15*t**4*xi)/T**4 - (10*t**3*xi)/T**3 - (3*t**5*xtf)/T**4 + (7*t**4*xtf)/T**3 - (4*t**3*xtf)/T**2 + t*xti - (3*t**5*xti)/T**4 + (8*t**4*xti)/T**3 - (6*t**3*xti)/T**2 + (t**5*xttf)/(2.*T**3) - (t**4*xttf)/T**2 + (t**3*xttf)/(2.*T) + (t**2*xtti)/2. - (t**5*xtti)/(2.*T**3) + (3*t**4*xtti)/(2.*T**2) - (3*t**3*xtti)/(2.*T)"
   ]
  },
  {
   "cell_type": "code",
   "execution_count": 68,
   "metadata": {},
   "outputs": [],
   "source": [
    "pos = p.getLinkState(teoId,name2id[b'r_sole_joint'])[0]\n",
    "phix_1=interpol(pos[0],0,0,pos[0]+step_length/2,0,0)\n",
    "phix_2=interpol(pos[0]+step_length/2,0,0,pos[0]+step_length,0,0)\n",
    "phiy_1=lambda t : pos[1]\n",
    "phiy_2=lambda t : pos[1]\n",
    "phiz_1=interpol(0,0,pos[2],0,0,pos[2]+step_height)\n",
    "phiz_2=interpol(0,0,pos[2]+step_height,0,0,pos[2])"
   ]
  },
  {
   "cell_type": "code",
   "execution_count": 69,
   "metadata": {},
   "outputs": [
    {
     "name": "stdout",
     "output_type": "stream",
     "text": [
      "(0.022629, -0.126052, 0.0203249999999999)\n"
     ]
    }
   ],
   "source": [
    "# setup simulation\n",
    "p.resetSimulation()\n",
    "planeId = p.loadURDF(\"plane.urdf\")\n",
    "p.setGravity(0,0,-9.79983)\n",
    "teoStartOrientation = p.getQuaternionFromEuler([0,0,0])\n",
    "teoStartPosition = [0,0,0.855]\n",
    "teoId = p.loadURDF(urdf_path,teoStartPosition ,teoStartOrientation)\n",
    "mode = p.POSITION_CONTROL\n",
    "\n",
    "#end-effector id\n",
    "ef = name2id[b'r_sole_joint']\n",
    "\n",
    "# Setup interpolators\n",
    "pos = p.getLinkState(teoId,ef)[0]\n",
    "print(pos)\n",
    "phix_1=interpol(pos[0],0,0,pos[0]+step_length/2,0,0)\n",
    "phix_2=interpol(pos[0]+step_length/2,0,0,pos[0]+step_length,0,0)\n",
    "phiy_1=lambda t : pos[1]\n",
    "phiy_2=lambda t : pos[1]\n",
    "phiz_1=interpol(0,0,pos[2],0,0,pos[2]+step_height)\n",
    "phiz_2=interpol(0,0,pos[2]+step_height,0,0,pos[2])\n",
    "\n",
    "time.sleep(1)\n",
    "\n",
    "\n",
    "for i in range(int(gait_step_time*1.5/timestep)):\n",
    "    if i < (half_step_time/timestep):\n",
    "        targetPos = list(p.calculateInverseKinematics(teoId, ef,[phix_1(i),phiy_1(i),phiz_1(i)],ori_quat))\n",
    "        p.setJointMotorControlArray(teoId,\n",
    "                            jointIndices, \n",
    "                            controlMode=mode,\n",
    "                            forces=maxForces,\n",
    "                            targetVelocities = maxVelocities,\n",
    "                            targetPositions = targetPos\n",
    "                           )\n",
    "    elif i < (2*half_step_time/timestep):\n",
    "        targetPos = list(p.calculateInverseKinematics(teoId, ef,[phix_2(i),phiy_2(i),phiz_2(i)],ori_quat))\n",
    "        p.setJointMotorControlArray(teoId,\n",
    "                    jointIndices, \n",
    "                    controlMode=mode,\n",
    "                    forces=maxForces,\n",
    "                    targetVelocities = maxVelocities,\n",
    "                    targetPositions = targetPos\n",
    "                   )\n",
    "    else:\n",
    "        targetPos = list(p.calculateInverseKinematics(teoId, ef,[phix_2(2*half_step_time/timestep),phiy_2(2*half_step_time/timestep),phiz_2(2*half_step_time/timestep)],ori_quat))\n",
    "        p.setJointMotorControlArray(teoId,\n",
    "                    jointIndices, \n",
    "                    controlMode=mode,\n",
    "                    forces=maxForces,\n",
    "                    targetVelocities = maxVelocities,\n",
    "                    targetPositions = targetPos\n",
    "                   )   \n",
    "    p.stepSimulation()\n",
    "    time.sleep(1./240.)"
   ]
  },
  {
   "cell_type": "code",
   "execution_count": 39,
   "metadata": {},
   "outputs": [
    {
     "data": {
      "text/plain": [
       "30"
      ]
     },
     "execution_count": 39,
     "metadata": {},
     "output_type": "execute_result"
    }
   ],
   "source": [
    "len(jointIndices)"
   ]
  },
  {
   "cell_type": "code",
   "execution_count": 27,
   "metadata": {},
   "outputs": [
    {
     "data": {
      "text/plain": [
       "0.022651626304"
      ]
     },
     "execution_count": 27,
     "metadata": {},
     "output_type": "execute_result"
    }
   ],
   "source": [
    "phix_1(0.2)"
   ]
  },
  {
   "cell_type": "code",
   "execution_count": 31,
   "metadata": {},
   "outputs": [
    {
     "data": {
      "text/plain": [
       "0.010153074920391499"
      ]
     },
     "execution_count": 31,
     "metadata": {},
     "output_type": "execute_result"
    }
   ],
   "source": [
    "(0.0,\n",
    " 0.010153074920391499,\n",
    " 0.0,\n",
    " 0.0,\n",
    " 0.0,\n",
    " 0.0,\n",
    " 0.0,\n",
    " 0.0,\n",
    " 0.0,\n",
    " 0.0,\n",
    " 0.0,\n",
    " 0.0,\n",
    " 0.0,\n",
    " 0.0,\n",
    " 0.0,\n",
    " 0.0,\n",
    " 0.0,\n",
    " 0.0,\n",
    " 0.0,\n",
    " 0.0,\n",
    " 0.0,\n",
    " 0.0,\n",
    " 0.0,\n",
    " 0.0,\n",
    " 0.0,\n",
    " 0.0,\n",
    " 0.0,\n",
    " 0.0)"
   ]
  },
  {
   "cell_type": "code",
   "execution_count": 77,
   "metadata": {},
   "outputs": [],
   "source": [
    "# setup simulation\n",
    "p.resetSimulation()\n",
    "planeId = p.loadURDF(\"plane.urdf\")\n",
    "p.setGravity(0,0,-9.79983)\n",
    "teoStartOrientation = p.getQuaternionFromEuler([0,0,0])\n",
    "teoStartPosition = [0,0,0.855]\n",
    "teoId = p.loadURDF(urdf_path,teoStartPosition ,teoStartOrientation)\n",
    "mode = p.POSITION_CONTROL\n",
    "\n",
    "#end-effector id\n",
    "ef = name2id[b'r_wrist_pitch']\n",
    "pos = p.getLinkState(teoId,ef)[0]\n",
    "targetPos = list(p.calculateInverseKinematics(teoId, ef,pos,ori_quat))\n",
    "\n",
    "mode = p.VELOCITY_CONTROL\n",
    "        \n",
    "p.setJointMotorControlArray(teoId,\n",
    "                    jointIndices, \n",
    "                    controlMode=mode,\n",
    "                    forces=maxForces,\n",
    "                    targetVelocities = maxVelocities,\n",
    "                    targetPositions = targetPos)\n",
    "\n",
    "for i in range(1000):\n",
    "    p.stepSimulation()\n",
    "    time.sleep(timestep)"
   ]
  },
  {
   "cell_type": "code",
   "execution_count": null,
   "metadata": {},
   "outputs": [],
   "source": []
  }
 ],
 "metadata": {
  "kernelspec": {
   "display_name": "Python 3",
   "language": "python",
   "name": "python3"
  },
  "language_info": {
   "codemirror_mode": {
    "name": "ipython",
    "version": 3
   },
   "file_extension": ".py",
   "mimetype": "text/x-python",
   "name": "python",
   "nbconvert_exporter": "python",
   "pygments_lexer": "ipython3",
   "version": "3.5.2"
  }
 },
 "nbformat": 4,
 "nbformat_minor": 2
}
