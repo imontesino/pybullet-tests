{
 "cells": [
  {
   "cell_type": "markdown",
   "metadata": {},
   "source": [
    "# TEO Simulation in PyBullet"
   ]
  },
  {
   "cell_type": "markdown",
   "metadata": {},
   "source": [
    "This notebook contains an example using pybullet to perform a stability test. We will first load the robot in its initial position, enable position control and simulate for a few seconds to correct for the ability of the robot to mantain the position. Then a joint/torque sensor will be aded to the ankle to measeure the ground reaction as it performs a movement."
   ]
  },
  {
   "cell_type": "markdown",
   "metadata": {},
   "source": [
    "## Setup"
   ]
  },
  {
   "cell_type": "markdown",
   "metadata": {},
   "source": [
    "Import the necesary libraries"
   ]
  },
  {
   "cell_type": "code",
   "execution_count": 1,
   "metadata": {},
   "outputs": [],
   "source": [
    "import pybullet as p\n",
    "import numpy as np\n",
    "import pybullet_data\n",
    "import time\n",
    "from math import radians, degrees\n",
    "import os, inspect\n",
    "currentdir = os.path.dirname(os.path.abspath(inspect.getfile(inspect.currentframe())))\n",
    "parentdir = os.path.dirname(currentdir)\n",
    "urdf_root = os.path.join(parentdir,\"models\")"
   ]
  },
  {
   "cell_type": "markdown",
   "metadata": {},
   "source": [
    "Start the physics client in Graphic mode"
   ]
  },
  {
   "cell_type": "code",
   "execution_count": 3,
   "metadata": {},
   "outputs": [
    {
     "ename": "error",
     "evalue": "Only one local in-process GUI/GUI_SERVER connection allowed. Use DIRECT connection mode or start a separate GUI physics server (ExampleBrowser, App_SharedMemoryPhysics_GUI, App_SharedMemoryPhysics_VR) and connect over SHARED_MEMORY, UDP or TCP instead.",
     "output_type": "error",
     "traceback": [
      "\u001b[0;31m---------------------------------------------------------------------------\u001b[0m",
      "\u001b[0;31merror\u001b[0m                                     Traceback (most recent call last)",
      "\u001b[0;32m<ipython-input-3-a38cc71144ca>\u001b[0m in \u001b[0;36m<module>\u001b[0;34m\u001b[0m\n\u001b[0;32m----> 1\u001b[0;31m \u001b[0mphysicsClient\u001b[0m \u001b[0;34m=\u001b[0m \u001b[0mp\u001b[0m\u001b[0;34m.\u001b[0m\u001b[0mconnect\u001b[0m\u001b[0;34m(\u001b[0m\u001b[0mp\u001b[0m\u001b[0;34m.\u001b[0m\u001b[0mGUI\u001b[0m\u001b[0;34m)\u001b[0m\u001b[0;34m\u001b[0m\u001b[0m\n\u001b[0m",
      "\u001b[0;31merror\u001b[0m: Only one local in-process GUI/GUI_SERVER connection allowed. Use DIRECT connection mode or start a separate GUI physics server (ExampleBrowser, App_SharedMemoryPhysics_GUI, App_SharedMemoryPhysics_VR) and connect over SHARED_MEMORY, UDP or TCP instead."
     ]
    }
   ],
   "source": [
    "physicsClient = p.connect(p.GUI)"
   ]
  },
  {
   "cell_type": "markdown",
   "metadata": {},
   "source": [
    "Add path for PyBullet exaples and useful assets such as the ground plane "
   ]
  },
  {
   "cell_type": "code",
   "execution_count": 4,
   "metadata": {},
   "outputs": [],
   "source": [
    "p.setAdditionalSearchPath(pybullet_data.getDataPath())"
   ]
  },
  {
   "cell_type": "markdown",
   "metadata": {},
   "source": [
    "Set the gravity"
   ]
  },
  {
   "cell_type": "code",
   "execution_count": 5,
   "metadata": {},
   "outputs": [],
   "source": [
    "p.setGravity(0,0,-9.79983)"
   ]
  },
  {
   "cell_type": "markdown",
   "metadata": {},
   "source": [
    "Load the ground"
   ]
  },
  {
   "cell_type": "code",
   "execution_count": 6,
   "metadata": {},
   "outputs": [],
   "source": [
    "planeId = p.loadURDF(\"plane.urdf\")"
   ]
  },
  {
   "cell_type": "markdown",
   "metadata": {},
   "source": [
    "Load the TEO urdf file above the ground plane"
   ]
  },
  {
   "cell_type": "code",
   "execution_count": 7,
   "metadata": {},
   "outputs": [],
   "source": [
    "teoStartOrientation = p.getQuaternionFromEuler([0,0,0])\n",
    "teoStartPosition = [0,0,0.86]\n",
    "urdf_path = os.path.join(urdf_root,\"TEO.urdf\")\n",
    "teoId = p.loadURDF(urdf_path,teoStartPosition ,teoStartOrientation)"
   ]
  },
  {
   "cell_type": "markdown",
   "metadata": {},
   "source": [
    "If loaded correctly we should see all the joint names and their joint ids"
   ]
  },
  {
   "cell_type": "code",
   "execution_count": 8,
   "metadata": {
    "scrolled": false
   },
   "outputs": [
    {
     "name": "stdout",
     "output_type": "stream",
     "text": [
      "b'waist_yaw'\n",
      "b'waist_pitch'\n",
      "b'head_yaw'\n",
      "b'head_pitch'\n",
      "b'l_shoulder_pitch'\n",
      "b'l_shoulder_roll'\n",
      "b'l_shoulder_yaw'\n",
      "b'l_elbow_pitch'\n",
      "b'l_wrist_yaw'\n",
      "b'l_wrist_pitch'\n",
      "b'r_shoulder_pitch'\n",
      "b'r_shoulder_roll'\n",
      "b'r_shoulder_yaw'\n",
      "b'r_elbow_pitch'\n",
      "b'r_wrist_yaw'\n",
      "b'r_wrist_pitch'\n",
      "b'l_hip_yaw'\n",
      "b'l_hip_roll'\n",
      "b'l_hip_pitch'\n",
      "b'l_knee_pitch'\n",
      "b'l_ankle_pitch'\n",
      "b'l_ankle_roll'\n",
      "b'l_sole_joint'\n",
      "b'r_hip_yaw'\n",
      "b'r_hip_roll'\n",
      "b'r_hip_pitch'\n",
      "b'r_knee_pitch'\n",
      "b'r_ankle_pitch'\n",
      "b'r_ankle_roll'\n",
      "b'r_sole_joint'\n"
     ]
    }
   ],
   "source": [
    "n_joints = p.getNumJoints(teoId)\n",
    "name2id={}\n",
    "for i in range(n_joints):\n",
    "    name2id[p.getJointInfo(teoId,i)[1]]=i\n",
    "    print(p.getJointInfo(teoId,i)[1])"
   ]
  },
  {
   "cell_type": "markdown",
   "metadata": {},
   "source": [
    "### Define starting position"
   ]
  },
  {
   "cell_type": "markdown",
   "metadata": {},
   "source": [
    "We set the desired joint positions for the joint controllers to achieve. We also set the max force to the ones defined by the urdf and the max velocities to what we desire."
   ]
  },
  {
   "cell_type": "code",
   "execution_count": 9,
   "metadata": {},
   "outputs": [],
   "source": [
    "n_joints = p.getNumJoints(teoId)\n",
    "\n",
    "jointIndices = [0] * n_joints\n",
    "targetPos = [0.0] * n_joints\n",
    "maxVelocities = [radians(1)] * n_joints\n",
    "maxForces = [0.0] * n_joints\n",
    "\n",
    "\n",
    "for i in range(n_joints):\n",
    "    jointIndices[i] = i\n",
    "    maxForces[i] = p.getJointInfo(teoId,i)[10]\n",
    "    \n",
    "    \n",
    "    if p.getJointInfo(teoId,i)[1] == 'waist_yaw':\n",
    "        targetPos[i] = 0\n",
    "    elif p.getJointInfo(teoId,i)[1] == 'r_shoulder_roll':\n",
    "        targetPos[i] = radians(-0)\n",
    "        \n",
    "    elif p.getJointInfo(teoId,i)[1] == 'r_hip_roll':\n",
    "        targetPos[i] = radians(0)\n",
    "    elif p.getJointInfo(teoId,i)[1] == 'r_knee_pitch':\n",
    "        targetPos[i] = radians(0)\n",
    "    elif p.getJointInfo(teoId,i)[1] == 'r_ankle_pitch':\n",
    "        targetPos[i] = radians(-0)\n",
    "    elif p.getJointInfo(teoId,i)[1] == 'r_ankle_roll':\n",
    "        targetPos[i] = radians(-0)\n",
    "        \n",
    "    elif p.getJointInfo(teoId,i)[1] == 'l_hip_roll':\n",
    "        targetPos[i] = radians(0)\n",
    "    elif p.getJointInfo(teoId,i)[1] == 'l_ankle_roll':\n",
    "        targetPos[i] = radians(-0)\n",
    "        \n",
    "    elif p.getJointInfo(teoId,i)[1] == 'l_shoulder_roll':\n",
    "        targetPos[i] = radians(0)\n",
    "    else:\n",
    "        targetPos[i] = 0"
   ]
  },
  {
   "cell_type": "markdown",
   "metadata": {},
   "source": [
    "We set the joint control with the created arrays and set it to position control."
   ]
  },
  {
   "cell_type": "code",
   "execution_count": 10,
   "metadata": {},
   "outputs": [],
   "source": [
    "mode = p.POSITION_CONTROL\n",
    "\n",
    "p.setJointMotorControlArray(teoId,\n",
    "                            jointIndices, \n",
    "                            controlMode=mode,\n",
    "                            forces=maxForces,\n",
    "                            targetVelocities = maxVelocities,\n",
    "                            targetPositions = targetPos\n",
    "                           )"
   ]
  },
  {
   "cell_type": "markdown",
   "metadata": {},
   "source": [
    "Advance simulation until the robot is stable"
   ]
  },
  {
   "cell_type": "markdown",
   "metadata": {},
   "source": [
    "## Gait"
   ]
  },
  {
   "cell_type": "code",
   "execution_count": 11,
   "metadata": {},
   "outputs": [],
   "source": [
    "timestep = 1/240\n",
    "p.setTimeStep(timestep)"
   ]
  },
  {
   "cell_type": "markdown",
   "metadata": {},
   "source": [
    "#### Step parameters"
   ]
  },
  {
   "cell_type": "code",
   "execution_count": 12,
   "metadata": {},
   "outputs": [],
   "source": [
    "pos_l = np.asarray(p.getLinkState(teoId,name2id[b'l_sole_joint'])[0])\n",
    "pos_r = np.asarray(p.getLinkState(teoId,name2id[b'r_sole_joint'])[0])\n",
    "\n",
    "NUMBER_OF_STEPS = 5\n",
    "\n",
    "# All units in S.I.\n",
    "step_duration=10\n",
    "step_height=0.01\n",
    "step_length=0.2\n",
    "step_width=pos = pos_l[1]-pos_r[1]\n",
    "\n",
    "foot_width=(70+70)/1000\n",
    "foot_length=(180+70)/1000\n",
    "\n",
    "com_height = 0.75\n",
    "\n",
    "# Percentage in length of the suport polygon to plan the ZMP in\n",
    "stable_percentage = 0.6 # 80%\n",
    "\n",
    "\n",
    "ori_quat=p.getLinkState(teoId,name2id[b'r_sole_joint'])[1]"
   ]
  },
  {
   "cell_type": "markdown",
   "metadata": {},
   "source": [
    "#### Intepolating polynomial (5th degree)"
   ]
  },
  {
   "cell_type": "code",
   "execution_count": 13,
   "metadata": {},
   "outputs": [],
   "source": [
    "def trayectory_pol(xi,xti,xtti,xf,xtf,xttf):\n",
    "    T = timestep\n",
    "    return lambda t:(6*t**5*xf)/T**5 - (15*t**4*xf)/T**4 + (10*t**3*xf)/T**3 + xi - (6*t**5*xi)/T**5 + (15*t**4*xi)/T**4 - (10*t**3*xi)/T**3 - (3*t**5*xtf)/T**4 + (7*t**4*xtf)/T**3 - (4*t**3*xtf)/T**2 + t*xti - (3*t**5*xti)/T**4 + (8*t**4*xti)/T**3 - (6*t**3*xti)/T**2 + (t**5*xttf)/(2.*T**3) - (t**4*xttf)/T**2 + (t**3*xttf)/(2.*T) + (t**2*xtti)/2. - (t**5*xtti)/(2.*T**3) + (3*t**4*xtti)/(2.*T**2) - (3*t**3*xtti)/(2.*T)"
   ]
  },
  {
   "cell_type": "markdown",
   "metadata": {},
   "source": [
    "#### ZMP"
   ]
  },
  {
   "cell_type": "code",
   "execution_count": 14,
   "metadata": {
    "scrolled": true
   },
   "outputs": [],
   "source": [
    "com = np.asarray([8.67/1000, -0.03/1000, 14.06/1000])+np.asarray(list(p.getBasePositionAndOrientation(teoId)[0]))\n",
    "\n",
    "L  = lambda n : np.array([step_length, -(-1)**n*step_width, 0])\n",
    "RT = lambda theta_n : np.array([[np.cos(theta_n),-np.sin(theta_n),0],\n",
    "                                [np.sin(theta_n), np.cos(theta_n),0],\n",
    "                                [       0       ,       0        ,1]])\n",
    "\n",
    "def P_n(P_previous, theta_n, n):\n",
    "    return P_previous + np.dot(RT(theta_n),L(n))\n",
    "\n",
    "def ZMP_n(ZMP_previous, theta_n1, n):\n",
    "    return ZMP_previous + np.dot(RT(theta_n),L(n)/2) "
   ]
  },
  {
   "cell_type": "code",
   "execution_count": 15,
   "metadata": {
    "scrolled": true
   },
   "outputs": [
    {
     "data": {
      "text/plain": [
       "<Figure size 1850x1050 with 1 Axes>"
      ]
     },
     "metadata": {},
     "output_type": "display_data"
    }
   ],
   "source": [
    "import matplotlib.pyplot as plt\n",
    "import matplotlib.patches as patches\n",
    "\n",
    "\n",
    "P = np.array([pos_r])\n",
    "ZMP = np.array([(pos_r+pos_l)/2, pos_r])\n",
    "\n",
    "\n",
    "\n",
    "theta_n = 0\n",
    "rects = [patches.Rectangle((pos_l[0]-0.07,pos_l[1]-0.07), foot_length,foot_width,\n",
    "                                   linewidth=2,edgecolor='b',facecolor='none')]\n",
    "\n",
    "for i in range(3,14):\n",
    "    #print(\"i=\",i)\n",
    "    \n",
    "    if i%2==1:\n",
    "        n = int(i/2)\n",
    "        #print(\"n=\",n)\n",
    "        corner =P[n-1,0:2]-np.array([0.07,0.07])\n",
    "        if n % 2:\n",
    "            edge_color='r'\n",
    "        else:\n",
    "            edge_color='b'\n",
    "        rects.append(patches.Rectangle((corner[0],corner[1]), foot_length,foot_width,\n",
    "                                       linewidth=2,edgecolor=edge_color,facecolor='none'))\n",
    "        P_next = P_n(P[n-1], theta_n, n)\n",
    "        P=np.concatenate((P,np.array([P_next])))\n",
    "        ZMP_next = P[n-1]+np.array([.18,0,0])*stable_percentage \n",
    "        ZMP=np.concatenate((ZMP,np.array([ZMP_next])))\n",
    "    else:\n",
    "        ZMP_next = P[n]-np.array([.07,0,0])*stable_percentage**2\n",
    "        ZMP=np.concatenate((ZMP,np.array([ZMP_next])))\n",
    "    \n",
    "\n",
    "\n",
    "P[-1]=P[-1]-np.array([step_length, 0, 0])\n",
    "n = n+1\n",
    "corner =P[n-1,0:2]-np.array([0.07,0.07])\n",
    "if n % 2:\n",
    "    edge_color='r'\n",
    "else:\n",
    "    edge_color='b'\n",
    "rects.append(patches.Rectangle((corner[0],corner[1]), foot_length,foot_width,\n",
    "                               linewidth=2,edgecolor=edge_color,facecolor='none'))\n",
    "\n",
    "ZMP[-1]=ZMP[-1]-np.array([.18,0,0])*stable_percentage \n",
    "ZMP_next = (P[-1]+P[-2])/2\n",
    "ZMP=np.concatenate((ZMP,np.array([ZMP_next])))\n",
    "\n",
    "\n",
    "#print(ZMP)\n",
    "\n",
    "fig,axes = plt.subplots(1)\n",
    "                        \n",
    "fig.set_size_inches(18.5, 10.5)\n",
    "fig.savefig('test2png.png', dpi=100)\n",
    "\n",
    "plt.plot(ZMP[:,0], ZMP[:,1], 'k')\n",
    "\n",
    "axes.set_xlim([-0.1,1.3])\n",
    "axes.set_ylim([-0.3,0.3])\n",
    "axes.set_aspect('equal')\n",
    "\n",
    "\n",
    "axes.legend(['ZMP_ref'])\n",
    "for rect in rects:\n",
    "    axes.add_patch(rect)\n",
    "    \n",
    "plt.show()"
   ]
  },
  {
   "cell_type": "markdown",
   "metadata": {},
   "source": [
    "## Inverse Kinematics"
   ]
  },
  {
   "cell_type": "markdown",
   "metadata": {},
   "source": [
    "Define the paden-kahan solutions (numeric)"
   ]
  },
  {
   "cell_type": "code",
   "execution_count": 16,
   "metadata": {},
   "outputs": [],
   "source": [
    "def PK1(xi,p,q,r):\n",
    "    w = xi[0:3]\n",
    "    u = p-r\n",
    "    v = q-r\n",
    "    up = u - np.dot(w, np.dot(w.transpose(),u))\n",
    "    vp = v - np.dot(w, np.dot(w.transpose(),v))\n",
    "    return np.arctan2(np.dot(w.transpose(),np.cross(up,vp)), np.dot(up.transpose(),vp))\n",
    "\n",
    "\n",
    "def PK2(xi1,xi2,p,q,r1,r2): # Extended PK2\n",
    "    d = np.linalg.norm(r2-r1)*np.cross(w1,w2)\n",
    "    \n",
    "    w1 = xi1[0:3]\n",
    "    w2 = xi2[0:3]\n",
    "    \n",
    "    u = p-r\n",
    "    v = q-r\n",
    "    \n",
    "    up = u - np.dot(w2, np.dot(w2.transpose(),u))\n",
    "    vp = v - np.dot(w1, np.dot(w1.transpose(),v))\n",
    "    \n",
    "    alpha = (np.dot(w1.transpose(),w2)*np.dot(w2.transpose(),u)-np.dot(w1.transpose(),v))/(np.dot(w1.transpose(),w2)**2-1)\n",
    "    beta = (np.dot(w1.transpose(),w2)*np.dot(w1.transpose(),v)-np.dot(w2.transpose(),u))/(np.dot(w1.transpose(),w2)**2-1)\n",
    "    \n",
    "    \n",
    "    gamma2 = (np.linalg.norm(u)**2-alpha**2-beta**2-2*alpha*beta*np.dot(w1.transpose(),w2))/(np.linalg.norm(np.cross(w1,w2)))\n",
    "    \n",
    "    z1=alpha*w1+beta*w2+np.sqrt(gamma2)*np.cross(w1,w2)+d\n",
    "    z2=alpha*w1+beta*w2+np.sqrt(gamma2)*np.cross(w1,w2)\n",
    "    \n",
    "    z1p = z1 - np.dot(w1, np.dot(w1.transpose(),z1))\n",
    "    z2p = z2 - np.dot(w2, np.dot(w2.transpose(),z2))    \n",
    "    \n",
    "    theta2=np.arctan2(np.dot(w2.transpose(),np.cross(up,z2p)),np.dot(up.transpose(),z2p))\n",
    "    theta1=np.arctan2(np.dot(w1.transpose(),np.cross(z1p,vp)),np.dot(z1p,vp.transpose()))\n",
    "    \n",
    "    return [theta1,theta2]\n",
    "\n",
    "\n",
    "def PK3(xi,p,q,r,delta):\n",
    "    w = xi[0:3]\n",
    "    u = p-r\n",
    "    v = q-r\n",
    "    up = u - np.dot(w, np.dot(w.transpose(),u))\n",
    "    vp = v - np.dot(w, np.dot(w.transpose(),v))\n",
    "    deltap2=delta**2-np.linalg.norm(np.dot(w.transpose(),p-q))**2\n",
    "    \n",
    "    theta0 = np.arctan2(np.dot(w.transpose(),np.cross(up,vp)), np.cross(up.transpose(),vp))\n",
    "    \n",
    "    root = np.arccos((np.linalg.norm(up)**2+np.linalg.norm(vp)**2-delta2)/(2*np.linalg.norm(up)*np.linalg.norm(vp))) \n",
    "    \n",
    "    return [theta0+root, theta0-root]"
   ]
  },
  {
   "cell_type": "markdown",
   "metadata": {},
   "source": [
    "### Solving in Symbolic"
   ]
  },
  {
   "cell_type": "markdown",
   "metadata": {},
   "source": [
    "We first solve symbolically to accelerate calculations later. (using SymPy 1.4)"
   ]
  },
  {
   "cell_type": "code",
   "execution_count": 17,
   "metadata": {},
   "outputs": [],
   "source": [
    "import sympy as sp"
   ]
  },
  {
   "cell_type": "markdown",
   "metadata": {},
   "source": [
    "Define the Lie Algebra functions and the Paden-Kahan subproblems"
   ]
  },
  {
   "cell_type": "code",
   "execution_count": 18,
   "metadata": {},
   "outputs": [],
   "source": [
    "from sympy.physics.quantum.tensorproduct import TensorProduct\n",
    "def skewsim(w):\n",
    "    return sp.Matrix([[  0  , -w[2],   w[1]],\n",
    "                      [ w[2],   0  ,  -w[0]],\n",
    "                      [-w[1],  w[0],    0  ]])\n",
    "\n",
    "def is_diagonal(i,j):\n",
    "    if i == j:\n",
    "        return 1\n",
    "    else:\n",
    "        return 0    \n",
    "    \n",
    "def Id(n):\n",
    "    return sp.Matrix(n, n, is_diagonal)\n",
    "\n",
    "def LieExp(xi, theta):\n",
    "    w = xi[0:3,:]\n",
    "    v = xi[3:,:]\n",
    "    \n",
    "    if w.norm()==0:\n",
    "        R=Id(3)\n",
    "        p=v*theta\n",
    "    else:\n",
    "        R=Id(3)+skewsim(w)*sp.sin(theta)+(skewsim(w)**2)*(1-sp.cos(theta))\n",
    "        p=(Id(3)-R)*(w.cross(v))+TensorProduct(w,w.transpose())*(v*theta)\n",
    "    g = Id(4)\n",
    "    g[0:3,0:3]=R\n",
    "    g[0:3,3]=p\n",
    "    return g\n",
    "\n",
    "def LieAd(g):\n",
    "    R = g[0:3,0:3]\n",
    "    p = g[0:3,3]\n",
    "    Ad_g = Id(6)\n",
    "    Ad_g[0:3,0:3]=R\n",
    "    Ad_g[3:6,3:6]=R\n",
    "    Ad_g[0:3,3:6]=skewsim(p)*R\n",
    "    return Ad_g\n",
    "\n",
    "def LieAdInv(g):\n",
    "    R = g[0:3,0:3]\n",
    "    p = g[0:3,3]\n",
    "    Ad_g = Id(6)\n",
    "    Ad_g[0:3,0:3]=R.transpose()\n",
    "    Ad_g[3:6,3:6]=R.transpose()\n",
    "    Ad_g[0:3,3:6]=-R.transpose()*skewsim(p)\n",
    "    return Ad_g\n",
    "\n",
    "def cart2hom(p):\n",
    "    return sp.Matrix([p[0],p[1],p[2],1])\n",
    "\n",
    "def symPK1(xi,p,q,r):\n",
    "    w = xi[0:3,:]\n",
    "    u = p-r\n",
    "    v = q-r\n",
    "    up = u - (w*w.transpose())*u\n",
    "    vp = v - (w*w.transpose())*v\n",
    "    return sp.atan2((w.transpose()*up.cross(vp))[0], (up.transpose()*vp)[0])\n",
    "\n",
    "\n",
    "def symPK2(xi1,xi2,p,q,r):\n",
    "    w1 = xi1[0:3,:]\n",
    "    w2 = xi2[0:3,:]\n",
    "\n",
    "    u = p-r\n",
    "    v = q-r\n",
    "\n",
    "    alpha = (((w1.transpose()*w2)*(w2.transpose()*u)-(w1.transpose()*v))/((w1.transpose()*w2)**2-sp.Matrix([1])))[0]\n",
    "    beta  = (((w1.transpose()*w2)*(w1.transpose()*v)-(w2.transpose()*u))/((w1.transpose()*w2)**2-sp.Matrix([1])))[0]\n",
    "\n",
    "    gamma2 = ((u.norm())**2-alpha**2-beta**2-2*alpha*beta*(w1.transpose()*w2)[0])/((w1.cross(w2)).norm()**2)\n",
    "\n",
    "    d=alpha*w1+beta*w2+sp.sqrt(gamma2)*w1.cross(w2)\n",
    "    c=alpha*w1+beta*w2-sp.sqrt(gamma2)*w1.cross(w2)\n",
    "\n",
    "    up = u - w2*(w2.transpose()*u)\n",
    "    vp = v - w1*(w1.transpose()*v)\n",
    "    \n",
    "    m = c-r\n",
    "    m1p = m - w1*(w1.transpose()*m)\n",
    "    m2p = m - w2*(w2.transpose()*m)\n",
    "    \n",
    "    n = d-r\n",
    "    n1p = n - w1*(w1.transpose()*n)\n",
    "    n2p = n - w2*(w2.transpose()*n)\n",
    "    \n",
    "    \n",
    "    theta2_1=sp.atan2((w2.transpose()*up.cross(m2p))[0],(up.transpose()*m2p)[0])\n",
    "    theta1_1=sp.atan2((w1.transpose()*m1p.cross(vp))[0],(m1p.transpose()*vp)[0])\n",
    "    \n",
    "    theta2_2=sp.atan2((w2.transpose()*up.cross(n2p))[0],(up.transpose()*n2p)[0])\n",
    "    theta1_2=sp.atan2((w1.transpose()*n1p.cross(vp))[0],(n1p.transpose()*vp)[0])\n",
    "    \n",
    "    return [theta1_1, theta1_2] , [theta2_1, theta2_2]\n",
    "\n",
    "\n",
    "def symPK3(xi,p,q,r,delta):\n",
    "    w = xi[0:3,:]\n",
    "    u = p-r\n",
    "    v = q-r\n",
    "    up = u - (w*w.transpose())*u\n",
    "    vp = v - (w*w.transpose())*v\n",
    "    \n",
    "    deltap2=delta**2-(w.transpose()*(p-q)).norm()**2\n",
    "    \n",
    "    alpha = sp.atan2((w.transpose()*up.cross(vp))[0], (up.transpose()*vp)[0])\n",
    "    \n",
    "    beta = sp.acos(up.norm()**2+vp.norm()**2-deltap2/(2*up.norm()*vp.norm()))\n",
    "    \n",
    "    return [alpha+beta, alpha-beta]\n",
    "\n"
   ]
  },
  {
   "cell_type": "markdown",
   "metadata": {},
   "source": [
    "Define the properties of the robot"
   ]
  },
  {
   "cell_type": "code",
   "execution_count": 19,
   "metadata": {},
   "outputs": [],
   "source": [
    "x_com = sp.Symbol('x_{com}')\n",
    "y_com = sp.Symbol('y_{com}') \n",
    "z_com = sp.Symbol('z_{com}')\n",
    "\n",
    "l0 = 0.1932\n",
    "l1 = 0.305\n",
    "l2 = 0.1625\n",
    "l3 = 0.059742\n",
    "l4 = 0.037508\n",
    "l5 = 0.34692\n",
    "l6 = 0.32992\n",
    "l7 = 0.215\n",
    "l8 = 0.090\n",
    "l9 = 0.092\n",
    "l10 = 0.330\n",
    "l11 = 0.300\n",
    "l12 = 0.123005\n",
    "l13 = 0.146\n",
    "l14 = 0.018\n",
    "l15 = 0.026\n",
    "l16 = 0.0175\n",
    "\n",
    "\n",
    "# Right leg with respect to ground\n",
    "xi1  = -sp.Matrix([1., 0., 0., 0., l12, 0.])\n",
    "xi2  =  sp.Matrix([0., 1., 0., -l12, 0., 0.])\n",
    "xi3  =  sp.Matrix([0., 1., 0., -(l11 + l12), 0., 0.])\n",
    "xi4  =  sp.Matrix([0., 1., 0., -(l10 + l11 + l12), 0., 0.])\n",
    "xi5  = -sp.Matrix([1., 0., 0., 0., (l10 + l11 + l12), (l16) ])\n",
    "xi6  = -sp.Matrix([0., 0., 1., -l16, 0., 0.])\n",
    "\n",
    "\n",
    "#Left leg with respect to to ground\n",
    "xi7  =  sp.Matrix([0., 0., 1., l16, 0., 0.])\n",
    "xi8  = -sp.Matrix([1., 0., 0., 0., (l10 + l11 + l12), -(l16) ])\n",
    "xi9  =  sp.Matrix([0., 1., 0., -(l10 + l11 + l12), 0., 0.])\n",
    "xi10 =  sp.Matrix([0., 1., 0., -(l11 + l12), 0., 0.])\n",
    "xi11 =  sp.Matrix([0., 1., 0., -l12, 0., 0.])\n",
    "xi12 = -sp.Matrix([1., 0., 0., 0., l12, 0.])"
   ]
  },
  {
   "cell_type": "markdown",
   "metadata": {},
   "source": [
    "### Right leg"
   ]
  },
  {
   "cell_type": "code",
   "execution_count": 20,
   "metadata": {},
   "outputs": [],
   "source": [
    "n=sp.Matrix([1, 0, 0])\n",
    "o=sp.Matrix([0, 1, 0])\n",
    "a=sp.Matrix([0, 0, 1])\n",
    "point_p=sp.Matrix([x_com, y_com, z_com])-sp.Matrix([8.67/1000, -0.03/1000, 14.06/1000])+sp.Matrix([0, -l13, 0])-sp.Matrix(pos_r)\n",
    "\n",
    "point_r=point_p\n",
    "\n",
    "noap=Id(4)\n",
    "noap[0:3,3]=point_p\n",
    "\n",
    "Hst0=Id(4)\n",
    "Hst0Inv=Id(4)\n",
    "\n",
    "Hst0[0:3,3]=sp.Matrix([0, -l16, l9+l10+l11+l12])\n",
    "Hst0Inv[0:3,3]=-sp.Matrix([0, -l16, l9+l10+l11+l12])\n",
    "\n",
    "\n",
    "f=sp.Matrix([0, -l16,  l12+l11+l10])\n",
    "r=sp.Matrix([0, -l16,      l12+l11])\n",
    "k=sp.Matrix([0,    0,          l12])\n"
   ]
  },
  {
   "cell_type": "markdown",
   "metadata": {},
   "source": [
    "Solving the knee joint"
   ]
  },
  {
   "cell_type": "code",
   "execution_count": 21,
   "metadata": {},
   "outputs": [],
   "source": [
    "delta=((noap*Hst0Inv*cart2hom(f))[0:3,:]-k).norm()\n",
    "theta3=symPK3(xi3,f,k,r,delta)[1]"
   ]
  },
  {
   "cell_type": "markdown",
   "metadata": {},
   "source": [
    "Solving the ankle joints"
   ]
  },
  {
   "cell_type": "code",
   "execution_count": 22,
   "metadata": {},
   "outputs": [],
   "source": [
    "kp=(noap*Hst0Inv*cart2hom(f))[0:3,0]\n",
    "fp=(LieExp(xi3,theta3)*cart2hom(f))[0:3,0]\n",
    "theta1,theta2 = symPK2(xi1,xi2,fp,kp,k) # Extended PK2\n",
    "theta1=theta1[0]\n",
    "theta2=theta2[0]"
   ]
  },
  {
   "cell_type": "markdown",
   "metadata": {},
   "source": [
    "Solving the hip pitch and yaw joints"
   ]
  },
  {
   "cell_type": "code",
   "execution_count": 23,
   "metadata": {},
   "outputs": [],
   "source": [
    "kpp=(LieExp(xi3,-theta3)*LieExp(xi2,-theta2)*LieExp(xi1,-theta1)*noap*Hst0Inv*cart2hom(point_p))[0:3,0]\n",
    "theta4,theta5 = symPK2(xi4,xi5,point_p,kpp,f) # Extended PK2\n",
    "theta4=theta4[0]\n",
    "theta5=theta5[0]\n"
   ]
  },
  {
   "cell_type": "markdown",
   "metadata": {},
   "source": [
    "Solving the hip yaw joint"
   ]
  },
  {
   "cell_type": "code",
   "execution_count": 24,
   "metadata": {},
   "outputs": [],
   "source": [
    "kppp=(LieExp(xi5,-theta5)*LieExp(xi4,-theta4)*LieExp(xi3,-theta3)*LieExp(xi2,-theta2)*LieExp(xi1,-theta1)*noap*Hst0Inv*cart2hom(o))[0:3,0]\n",
    "theta6=symPK1(xi6,o,kppp,point_p)"
   ]
  },
  {
   "cell_type": "markdown",
   "metadata": {},
   "source": [
    "### Left leg"
   ]
  },
  {
   "cell_type": "code",
   "execution_count": 25,
   "metadata": {},
   "outputs": [],
   "source": [
    "n=sp.Matrix([1, 0, 0])\n",
    "o=sp.Matrix([0, 1, 0])\n",
    "a=sp.Matrix([0, 0, 1])\n",
    "\n",
    "point_p=sp.Matrix([x_com, y_com, z_com])-sp.Matrix([8.67/1000, -0.03/1000, 14.06/1000])+sp.Matrix([0, +l13, 0])-sp.Matrix(pos_l)\n",
    "point_l=point_p\n",
    "\n",
    "noap=Id(4)\n",
    "noap[0:3,3]=point_p\n",
    "\n",
    "Hst0=Id(4)\n",
    "Hst0Inv=Id(4)\n",
    "\n",
    "Hst0[0:3,3]    = sp.Matrix([0, l16, l9+l10+l11+l12])\n",
    "Hst0Inv[0:3,3] =-sp.Matrix([0, l16, l9+l10+l11+l12])\n",
    "\n",
    "\n",
    "f=sp.Matrix([0, l16,  l12+l11+l10])\n",
    "r=sp.Matrix([0, l16,      l12+l11])\n",
    "k=sp.Matrix([0,   0,          l12])\n"
   ]
  },
  {
   "cell_type": "markdown",
   "metadata": {},
   "source": [
    "Solving the knee joint"
   ]
  },
  {
   "cell_type": "code",
   "execution_count": 26,
   "metadata": {},
   "outputs": [],
   "source": [
    "delta=((noap*Hst0Inv*cart2hom(f))[0:3,:]-k).norm()\n",
    "theta10=symPK3(xi10,f,k,r,delta)[1]"
   ]
  },
  {
   "cell_type": "markdown",
   "metadata": {},
   "source": [
    "Solving the ankle joints"
   ]
  },
  {
   "cell_type": "code",
   "execution_count": 27,
   "metadata": {},
   "outputs": [],
   "source": [
    "kp=(noap*Hst0Inv*cart2hom(f))[0:3,0]\n",
    "fp=(LieExp(xi10,theta10)*cart2hom(f))[0:3,0]\n",
    "\n",
    "theta12,theta11 = symPK2(xi12,xi11,fp,kp,k) # Extended PK2\n",
    "theta12=theta12[0]\n",
    "theta11=theta11[0]"
   ]
  },
  {
   "cell_type": "markdown",
   "metadata": {},
   "source": [
    "Solving the hip pitch and yaw joints"
   ]
  },
  {
   "cell_type": "code",
   "execution_count": 28,
   "metadata": {},
   "outputs": [],
   "source": [
    "kpp=(LieExp(xi10,-theta10)*LieExp(xi11,-theta11)*LieExp(xi12,-theta12)*noap*Hst0Inv*cart2hom(point_p))[0:3,0]\n",
    "theta9,theta8 = symPK2(xi9,xi8,point_p,kpp,f) # Extended PK2\n",
    "theta9=theta9[0]\n",
    "theta8=theta8[0]"
   ]
  },
  {
   "cell_type": "markdown",
   "metadata": {},
   "source": [
    "Solving the hip yaw joint"
   ]
  },
  {
   "cell_type": "code",
   "execution_count": 29,
   "metadata": {},
   "outputs": [],
   "source": [
    "kppp=(LieExp(xi8,-theta8)*LieExp(xi9,-theta9)*LieExp(xi10,-theta10)*LieExp(xi11,-theta11)*LieExp(xi12,-theta12)*noap*Hst0Inv*cart2hom(o))[0:3,0]\n",
    "theta7=symPK1(xi7,o,kppp,point_p)"
   ]
  },
  {
   "cell_type": "code",
   "execution_count": 37,
   "metadata": {},
   "outputs": [
    {
     "name": "stdout",
     "output_type": "stream",
     "text": [
      "com = ( 0.022629 0.0 0.690531 )\n",
      "\n",
      "p_l = ( Matrix([[-0.00867000000000000], [0.0199780000000000], [0.651146000000000]]) )\n",
      "pos_l = ( [0.022629 0.126052 0.025325] )\n",
      "Hst0_l[0:3,3] = ( Matrix([[0], [-0.0175000000000000], [0.845005000000000]]) )\n",
      "\n",
      "p_r = ( Matrix([[-0.00867000000000000], [-0.0199180000000000], [0.651146000000000]]) )\n",
      "pos_r = ( [ 0.022629 -0.126052  0.025325] )\n",
      "Hst0_r[0:3,3] = ( Matrix([[0], [-0.0175000000000000], [0.845005000000000]]) )\n",
      "\n",
      "Right Leg:\n",
      "r_ankle_roll:  -0.4754222330533696\n",
      "r_ankle_pitch:  -22.212719059939502\n",
      "r_knee_pitch:  40.30264484577152\n",
      "r_hip_pitch:  -17.24558877085696\n",
      "r_hip_roll:  -2.3944887775970196\n",
      "r_hip_yaw:  0.948590263193349\n",
      "\n",
      "Left Leg:\n",
      "l_ankle_roll:  0.4832972026708767\n",
      "l_ankle_pitch:  -22.212150099368245\n",
      "l_knee_pitch:  40.30157392819531\n",
      "l_hip_pitch:  -17.245075400452787\n",
      "l_hip_roll:  2.423259602285006\n",
      "l_hip_yaw:  -0.8495057935698977\n",
      "\n",
      "compute time:  1.1950531005859375\n"
     ]
    }
   ],
   "source": [
    "#x_com_0 = p.getBasePositionAndOrientation(teoId)[0][0]\n",
    "#y_com_0 = p.getBasePositionAndOrientation(teoId)[0][1]\n",
    "#z_com_0 = p.getBasePositionAndOrientation(teoId)[0][2]\n",
    "\n",
    "x_com_t = ((pos_l+pos_r)/2)[0]\n",
    "y_com_t = ((pos_l+pos_r)/2)[1]\n",
    "z_com_t = z_com_0-0.2\n",
    "\n",
    "test={x_com: x_com_t,y_com: y_com_t,z_com: z_com_t}\n",
    "\n",
    "\n",
    "print(\"com = (\",x_com_t,y_com_t,z_com_t,\")\\n\")\n",
    "\n",
    "print(\"p_l = (\",point_l.evalf(subs=test),\")\")\n",
    "print(\"pos_l = (\",pos_l,\")\")\n",
    "print(\"Hst0_l[0:3,3] = (\",Hst0[0:3,3],\")\")\n",
    "\n",
    "print()\n",
    "\n",
    "print(\"p_r = (\",point_r.evalf(subs=test),\")\")\n",
    "print(\"pos_r = (\",pos_r,\")\")\n",
    "\n",
    "Hst0=Id(4)\n",
    "Hst0[0:3,3]=sp.Matrix([0, -l16, l9+l10+l11+l12])\n",
    "print(\"Hst0_r[0:3,3] = (\",Hst0[0:3,3],\")\")\n",
    "\n",
    "print()\n",
    "\n",
    "\n",
    "t1=time.time()\n",
    "\n",
    "print(\"Right Leg:\")\n",
    "print(\"r_ankle_roll: \",degrees(theta1.evalf(subs=test)))\n",
    "print(\"r_ankle_pitch: \",degrees(theta2.evalf(subs=test)))\n",
    "print(\"r_knee_pitch: \",degrees(theta3.evalf(subs=test)))\n",
    "print(\"r_hip_pitch: \",degrees(theta4.evalf(subs=test)))\n",
    "print(\"r_hip_roll: \",degrees(theta5.evalf(subs=test)))\n",
    "print(\"r_hip_yaw: \",degrees(theta6.evalf(subs=test)))\n",
    "\n",
    "print()\n",
    "\n",
    "print(\"Left Leg:\")\n",
    "print(\"l_ankle_roll: \",degrees(theta12.evalf(subs=test)))\n",
    "print(\"l_ankle_pitch: \",degrees(theta11.evalf(subs=test)))\n",
    "print(\"l_knee_pitch: \",degrees(theta10.evalf(subs=test)))\n",
    "print(\"l_hip_pitch: \",degrees(theta9.evalf(subs=test)))\n",
    "print(\"l_hip_roll: \",degrees(theta8.evalf(subs=test)))\n",
    "print(\"l_hip_yaw: \",degrees(theta7.evalf(subs=test)))\n",
    "\n",
    "print()\n",
    "print(\"compute time: \", time.time()-t1)"
   ]
  },
  {
   "cell_type": "code",
   "execution_count": 38,
   "metadata": {},
   "outputs": [],
   "source": [
    "rightLegIndices=[name2id[b'r_ankle_roll'],\n",
    "                 name2id[b'r_ankle_pitch'],\n",
    "                 name2id[b'r_knee_pitch'],\n",
    "                 name2id[b'r_hip_pitch'],\n",
    "                 name2id[b'r_hip_roll'],\n",
    "                 name2id[b'r_hip_yaw']]\n",
    "\n",
    "rightLegAngles=[theta1.evalf(subs=test),\n",
    "                theta2.evalf(subs=test),\n",
    "                theta3.evalf(subs=test),\n",
    "                theta4.evalf(subs=test),\n",
    "                theta5.evalf(subs=test),\n",
    "                theta6.evalf(subs=test)]\n",
    "\n",
    "leftLegIndices= [name2id[b'l_ankle_roll'],\n",
    "                 name2id[b'l_ankle_pitch'],\n",
    "                 name2id[b'l_knee_pitch'],\n",
    "                 name2id[b'l_hip_pitch'],\n",
    "                 name2id[b'l_hip_roll'],\n",
    "                 name2id[b'l_hip_yaw']]\n",
    "\n",
    "leftLegAngles= [theta12.evalf(subs=test),\n",
    "                theta11.evalf(subs=test),\n",
    "                theta10.evalf(subs=test),\n",
    "                theta9.evalf(subs=test),\n",
    "                theta8.evalf(subs=test),\n",
    "                theta7.evalf(subs=test)]"
   ]
  },
  {
   "cell_type": "code",
   "execution_count": 39,
   "metadata": {},
   "outputs": [],
   "source": [
    "for i, index in enumerate(rightLegIndices):\n",
    "    targetPos[index]=rightLegAngles[i]\n",
    "\n",
    "for i, index in enumerate(leftLegIndices):\n",
    "    targetPos[index]=leftLegAngles[i]  \n",
    "    \n",
    "p.setJointMotorControlArray(teoId,\n",
    "                            jointIndices, \n",
    "                            controlMode=mode,\n",
    "                            forces=maxForces,\n",
    "                            targetVelocities = maxVelocities,\n",
    "                            targetPositions = targetPos\n",
    "                           )\n",
    "\n",
    "for i in range(3000):\n",
    "    p.stepSimulation()\n",
    "    time.sleep(timestep)"
   ]
  },
  {
   "cell_type": "markdown",
   "metadata": {},
   "source": []
  },
  {
   "cell_type": "code",
   "execution_count": 42,
   "metadata": {},
   "outputs": [],
   "source": [
    "p.resetSimulation()\n",
    "p.setTimeStep(timestep)\n",
    "p.setGravity(0,0,-9.79983)\n",
    "planeId = p.loadURDF(\"plane.urdf\")\n",
    "teoStartOrientation = p.getQuaternionFromEuler([0,0,0])\n",
    "teoStartPosition = [0,0,0.86]\n",
    "urdf_path = os.path.join(urdf_root,\"TEO.urdf\")\n",
    "teoId = p.loadURDF(urdf_path,teoStartPosition ,teoStartOrientation)\n",
    "n_joints = p.getNumJoints(teoId)\n",
    "name2id={}\n",
    "for i in range(n_joints):\n",
    "    name2id[p.getJointInfo(teoId,i)[1]]=i\n",
    "n_joints = p.getNumJoints(teoId)\n",
    "\n",
    "jointIndices = [0] * n_joints\n",
    "targetPos = [0.0] * n_joints\n",
    "maxVelocities = [radians(1)] * n_joints\n",
    "maxForces = [0.0] * n_joints\n",
    "\n",
    "\n",
    "for i in range(n_joints):\n",
    "    jointIndices[i] = i\n",
    "    maxForces[i] = p.getJointInfo(teoId,i)[10]\n",
    "    \n",
    "    \n",
    "    if p.getJointInfo(teoId,i)[1] == 'waist_yaw':\n",
    "        targetPos[i] = 0\n",
    "    elif p.getJointInfo(teoId,i)[1] == 'r_shoulder_roll':\n",
    "        targetPos[i] = radians(-0)\n",
    "        \n",
    "    elif p.getJointInfo(teoId,i)[1] == 'r_hip_roll':\n",
    "        targetPos[i] = radians(0)\n",
    "    elif p.getJointInfo(teoId,i)[1] == 'r_knee_pitch':\n",
    "        targetPos[i] = radians(0)\n",
    "    elif p.getJointInfo(teoId,i)[1] == 'r_ankle_pitch':\n",
    "        targetPos[i] = radians(-0)\n",
    "    elif p.getJointInfo(teoId,i)[1] == 'r_ankle_roll':\n",
    "        targetPos[i] = radians(-0)\n",
    "        \n",
    "    elif p.getJointInfo(teoId,i)[1] == 'l_hip_roll':\n",
    "        targetPos[i] = radians(0)\n",
    "    elif p.getJointInfo(teoId,i)[1] == 'l_ankle_roll':\n",
    "        targetPos[i] = radians(-0)\n",
    "        \n",
    "    elif p.getJointInfo(teoId,i)[1] == 'l_shoulder_roll':\n",
    "        targetPos[i] = radians(0)\n",
    "    else:\n",
    "        targetPos[i] = 0"
   ]
  },
  {
   "cell_type": "code",
   "execution_count": 59,
   "metadata": {},
   "outputs": [
    {
     "data": {
      "text/latex": [
       "$\\displaystyle 0$"
      ],
      "text/plain": [
       "0"
      ]
     },
     "execution_count": 59,
     "metadata": {},
     "output_type": "execute_result"
    }
   ],
   "source": [
    "limit(sin(xi),xi,0)"
   ]
  },
  {
   "cell_type": "code",
   "execution_count": 60,
   "metadata": {},
   "outputs": [
    {
     "data": {
      "text/latex": [
       "$\\displaystyle ξ$"
      ],
      "text/plain": [
       "ξ"
      ]
     },
     "execution_count": 60,
     "metadata": {},
     "output_type": "execute_result"
    }
   ],
   "source": [
    "xi"
   ]
  },
  {
   "cell_type": "code",
   "execution_count": 61,
   "metadata": {},
   "outputs": [],
   "source": [
    "from sympy import init_printing\n",
    "init_printing(use_unicode=True)"
   ]
  },
  {
   "cell_type": "code",
   "execution_count": 266,
   "metadata": {},
   "outputs": [
    {
     "ename": "NameError",
     "evalue": "name 'Matrix' is not defined",
     "output_type": "error",
     "traceback": [
      "\u001b[0;31m---------------------------------------------------------------------------\u001b[0m",
      "\u001b[0;31mNameError\u001b[0m                                 Traceback (most recent call last)",
      "\u001b[0;32m<ipython-input-266-54103ec94b08>\u001b[0m in \u001b[0;36m<module>\u001b[0;34m\u001b[0m\n\u001b[0;32m----> 1\u001b[0;31m \u001b[0mMatrix\u001b[0m\u001b[0;34m(\u001b[0m\u001b[0;34m[\u001b[0m\u001b[0;34m[\u001b[0m\u001b[0;36m1\u001b[0m\u001b[0;34m,\u001b[0m \u001b[0;34m-\u001b[0m\u001b[0;36m1\u001b[0m\u001b[0;34m]\u001b[0m\u001b[0;34m,\u001b[0m \u001b[0;34m[\u001b[0m\u001b[0;36m3\u001b[0m\u001b[0;34m,\u001b[0m \u001b[0;36m4\u001b[0m\u001b[0;34m]\u001b[0m\u001b[0;34m,\u001b[0m \u001b[0;34m[\u001b[0m\u001b[0;36m0\u001b[0m\u001b[0;34m,\u001b[0m \u001b[0;36m2\u001b[0m\u001b[0;34m]\u001b[0m\u001b[0;34m]\u001b[0m\u001b[0;34m)\u001b[0m\u001b[0;34m\u001b[0m\u001b[0m\n\u001b[0m",
      "\u001b[0;31mNameError\u001b[0m: name 'Matrix' is not defined"
     ]
    }
   ],
   "source": [
    "Matrix([[1, -1], [3, 4], [0, 2]])\n"
   ]
  },
  {
   "cell_type": "code",
   "execution_count": 235,
   "metadata": {},
   "outputs": [
    {
     "data": {
      "text/latex": [
       "$\\displaystyle \\left[\\begin{matrix}0.022629 & -0.126052 & 0.025325\\\\0.222629 & 0.126052 & 0.025325\\\\0.422629 & -0.126052 & 0.025325\\\\0.622629 & 0.126052 & 0.025325\\\\0.822629 & -0.126052 & 0.025325\\\\1.022629 & 0.126052 & 0.025325\\\\1.222629 & -0.126052 & 0.025325\\\\1.422629 & 0.126052 & 0.025325\\\\1.622629 & -0.126052 & 0.025325\\\\1.822629 & 0.126052 & 0.025325\\end{matrix}\\right]$"
      ],
      "text/plain": [
       "⎡0.022629  -0.126052  0.025325⎤\n",
       "⎢                             ⎥\n",
       "⎢0.222629  0.126052   0.025325⎥\n",
       "⎢                             ⎥\n",
       "⎢0.422629  -0.126052  0.025325⎥\n",
       "⎢                             ⎥\n",
       "⎢0.622629  0.126052   0.025325⎥\n",
       "⎢                             ⎥\n",
       "⎢0.822629  -0.126052  0.025325⎥\n",
       "⎢                             ⎥\n",
       "⎢1.022629  0.126052   0.025325⎥\n",
       "⎢                             ⎥\n",
       "⎢1.222629  -0.126052  0.025325⎥\n",
       "⎢                             ⎥\n",
       "⎢1.422629  0.126052   0.025325⎥\n",
       "⎢                             ⎥\n",
       "⎢1.622629  -0.126052  0.025325⎥\n",
       "⎢                             ⎥\n",
       "⎣1.822629  0.126052   0.025325⎦"
      ]
     },
     "execution_count": 235,
     "metadata": {},
     "output_type": "execute_result"
    }
   ],
   "source": []
  },
  {
   "cell_type": "code",
   "execution_count": 238,
   "metadata": {},
   "outputs": [],
   "source": []
  },
  {
   "cell_type": "code",
   "execution_count": 244,
   "metadata": {},
   "outputs": [],
   "source": [
    "l0 = 0.1932\n",
    "l1 = 0.305\n",
    "l2 = 0.1625\n",
    "l3 = 0.059742\n",
    "l4 = 0.037508\n",
    "l5 = 0.34692\n",
    "l6 = 0.32992\n",
    "l7 = 0.215\n",
    "l8 = 0.090\n",
    "l9 = 0.092\n",
    "l10 = 0.330\n",
    "l11 = 0.300\n",
    "l12 = 0.123005\n",
    "l13 = 0.146\n",
    "l14 = 0.018\n",
    "l15 = 0.026\n",
    "l16 = 0.0175\n",
    "\n",
    "# Righ leg with respect to ground\n",
    "xi1  = np.array([-1., 0., 0., 0., -l12, 0.])\n",
    "xi2  = np.array([0., 1., 0., -l12, 0., 0.])\n",
    "xi3  = np.array([0., 1., 0., -(l11 + l12), 0., 0.])\n",
    "xi4  = np.array([0., 1., 0., -(l10 + l11 + l12), 0., 0.])\n",
    "xi5  = np.array([-1., 0., 0., 0., -(l10 + l11 + l12), -(l16) ])\n",
    "xi6  = np.array([0., 0., -1., l16, 0., 0.])\n",
    "\n",
    "\n",
    "#Left leg with respect to hip\n",
    "xi7  = np.array([0., 0., 1., 0., 0., 0.])\n",
    "xi8  = np.array([-1., 0., 0., 0., l9, 0.])\n",
    "xi9  = np.array([0., 1., 0., l9, 0., 0.])\n",
    "xi10  = np.array([0., 1., 0., l9 + l10, 0., 0.])\n",
    "xi11  = np.array([0., 1., 0., (l9 + l10 + l11), 0., 0.])\n",
    "xi12 = np.array([-1., 0., 0., 0., (l9 + l10 + l11), -l16])"
   ]
  },
  {
   "cell_type": "code",
   "execution_count": 242,
   "metadata": {},
   "outputs": [],
   "source": [
    "from scipy.linalg import expm, sinm, cosm"
   ]
  },
  {
   "cell_type": "code",
   "execution_count": 243,
   "metadata": {},
   "outputs": [
    {
     "ename": "ValueError",
     "evalue": "expected a square matrix",
     "output_type": "error",
     "traceback": [
      "\u001b[0;31m---------------------------------------------------------------------------\u001b[0m",
      "\u001b[0;31mValueError\u001b[0m                                Traceback (most recent call last)",
      "\u001b[0;32m<ipython-input-243-7c82b32815f3>\u001b[0m in \u001b[0;36m<module>\u001b[0;34m\u001b[0m\n\u001b[0;32m----> 1\u001b[0;31m \u001b[0mexpm\u001b[0m\u001b[0;34m(\u001b[0m\u001b[0mxi1\u001b[0m\u001b[0;34m)\u001b[0m\u001b[0;34m\u001b[0m\u001b[0m\n\u001b[0m",
      "\u001b[0;32m/usr/local/lib/python3.5/dist-packages/scipy/linalg/matfuncs.py\u001b[0m in \u001b[0;36mexpm\u001b[0;34m(A)\u001b[0m\n\u001b[1;32m    254\u001b[0m     \u001b[0;31m# Input checking and conversion is provided by sparse.linalg.expm().\u001b[0m\u001b[0;34m\u001b[0m\u001b[0;34m\u001b[0m\u001b[0m\n\u001b[1;32m    255\u001b[0m     \u001b[0;32mimport\u001b[0m \u001b[0mscipy\u001b[0m\u001b[0;34m.\u001b[0m\u001b[0msparse\u001b[0m\u001b[0;34m.\u001b[0m\u001b[0mlinalg\u001b[0m\u001b[0;34m\u001b[0m\u001b[0m\n\u001b[0;32m--> 256\u001b[0;31m     \u001b[0;32mreturn\u001b[0m \u001b[0mscipy\u001b[0m\u001b[0;34m.\u001b[0m\u001b[0msparse\u001b[0m\u001b[0;34m.\u001b[0m\u001b[0mlinalg\u001b[0m\u001b[0;34m.\u001b[0m\u001b[0mexpm\u001b[0m\u001b[0;34m(\u001b[0m\u001b[0mA\u001b[0m\u001b[0;34m)\u001b[0m\u001b[0;34m\u001b[0m\u001b[0m\n\u001b[0m\u001b[1;32m    257\u001b[0m \u001b[0;34m\u001b[0m\u001b[0m\n\u001b[1;32m    258\u001b[0m \u001b[0;34m\u001b[0m\u001b[0m\n",
      "\u001b[0;32m/usr/local/lib/python3.5/dist-packages/scipy/sparse/linalg/matfuncs.py\u001b[0m in \u001b[0;36mexpm\u001b[0;34m(A)\u001b[0m\n\u001b[1;32m    604\u001b[0m             [  0.        ,   0.        ,  20.08553692]])\n\u001b[1;32m    605\u001b[0m     \"\"\"\n\u001b[0;32m--> 606\u001b[0;31m     \u001b[0;32mreturn\u001b[0m \u001b[0m_expm\u001b[0m\u001b[0;34m(\u001b[0m\u001b[0mA\u001b[0m\u001b[0;34m,\u001b[0m \u001b[0muse_exact_onenorm\u001b[0m\u001b[0;34m=\u001b[0m\u001b[0;34m'auto'\u001b[0m\u001b[0;34m)\u001b[0m\u001b[0;34m\u001b[0m\u001b[0m\n\u001b[0m\u001b[1;32m    607\u001b[0m \u001b[0;34m\u001b[0m\u001b[0m\n\u001b[1;32m    608\u001b[0m \u001b[0;34m\u001b[0m\u001b[0m\n",
      "\u001b[0;32m/usr/local/lib/python3.5/dist-packages/scipy/sparse/linalg/matfuncs.py\u001b[0m in \u001b[0;36m_expm\u001b[0;34m(A, use_exact_onenorm)\u001b[0m\n\u001b[1;32m    615\u001b[0m         \u001b[0mA\u001b[0m \u001b[0;34m=\u001b[0m \u001b[0mnp\u001b[0m\u001b[0;34m.\u001b[0m\u001b[0masarray\u001b[0m\u001b[0;34m(\u001b[0m\u001b[0mA\u001b[0m\u001b[0;34m)\u001b[0m\u001b[0;34m\u001b[0m\u001b[0m\n\u001b[1;32m    616\u001b[0m     \u001b[0;32mif\u001b[0m \u001b[0mlen\u001b[0m\u001b[0;34m(\u001b[0m\u001b[0mA\u001b[0m\u001b[0;34m.\u001b[0m\u001b[0mshape\u001b[0m\u001b[0;34m)\u001b[0m \u001b[0;34m!=\u001b[0m \u001b[0;36m2\u001b[0m \u001b[0;32mor\u001b[0m \u001b[0mA\u001b[0m\u001b[0;34m.\u001b[0m\u001b[0mshape\u001b[0m\u001b[0;34m[\u001b[0m\u001b[0;36m0\u001b[0m\u001b[0;34m]\u001b[0m \u001b[0;34m!=\u001b[0m \u001b[0mA\u001b[0m\u001b[0;34m.\u001b[0m\u001b[0mshape\u001b[0m\u001b[0;34m[\u001b[0m\u001b[0;36m1\u001b[0m\u001b[0;34m]\u001b[0m\u001b[0;34m:\u001b[0m\u001b[0;34m\u001b[0m\u001b[0m\n\u001b[0;32m--> 617\u001b[0;31m         \u001b[0;32mraise\u001b[0m \u001b[0mValueError\u001b[0m\u001b[0;34m(\u001b[0m\u001b[0;34m'expected a square matrix'\u001b[0m\u001b[0;34m)\u001b[0m\u001b[0;34m\u001b[0m\u001b[0m\n\u001b[0m\u001b[1;32m    618\u001b[0m \u001b[0;34m\u001b[0m\u001b[0m\n\u001b[1;32m    619\u001b[0m     \u001b[0;31m# Trivial case\u001b[0m\u001b[0;34m\u001b[0m\u001b[0;34m\u001b[0m\u001b[0m\n",
      "\u001b[0;31mValueError\u001b[0m: expected a square matrix"
     ]
    }
   ],
   "source": [
    "expm(xi1)"
   ]
  },
  {
   "cell_type": "code",
   "execution_count": null,
   "metadata": {},
   "outputs": [],
   "source": [
    "def Ad(xi):\n",
    "    return np.array([[,,,],\n",
    "                     [,,,],\n",
    "                     [,,,],\n",
    "                     [,,,]])"
   ]
  }
 ],
 "metadata": {
  "kernelspec": {
   "display_name": "Python 3",
   "language": "python",
   "name": "python3"
  },
  "language_info": {
   "codemirror_mode": {
    "name": "ipython",
    "version": 3
   },
   "file_extension": ".py",
   "mimetype": "text/x-python",
   "name": "python",
   "nbconvert_exporter": "python",
   "pygments_lexer": "ipython3",
   "version": "3.5.2"
  }
 },
 "nbformat": 4,
 "nbformat_minor": 2
}
