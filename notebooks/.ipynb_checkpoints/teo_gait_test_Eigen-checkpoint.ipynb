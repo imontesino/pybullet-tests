{
 "cells": [
  {
   "cell_type": "markdown",
   "metadata": {},
   "source": [
    "# TEO Simulation in PyBullet"
   ]
  },
  {
   "cell_type": "markdown",
   "metadata": {},
   "source": [
    "This notebook contains an example using pybullet to perform a stability test. We will first load the robot in its initial position, enable position control and simulate for a few seconds to correct for the ability of the robot to mantain the position. Then a joint/torque sensor will be aded to the ankle to measeure the ground reaction as it performs a movement."
   ]
  },
  {
   "cell_type": "markdown",
   "metadata": {},
   "source": [
    "## Setup"
   ]
  },
  {
   "cell_type": "markdown",
   "metadata": {},
   "source": [
    "Import the necesary libraries"
   ]
  },
  {
   "cell_type": "code",
   "execution_count": 1,
   "metadata": {},
   "outputs": [],
   "source": [
    "import pybullet as p\n",
    "import numpy as np\n",
    "np.set_printoptions(precision=5)\n",
    "import pybullet_data\n",
    "import time\n",
    "from math import radians, degrees\n",
    "import os, inspect\n",
    "currentdir = os.path.dirname(os.path.abspath(inspect.getfile(inspect.currentframe())))\n",
    "parentdir = os.path.dirname(currentdir)\n",
    "urdf_root = os.path.join(parentdir,\"models\")\n",
    "import sys\n",
    "ik_root = os.path.join(parentdir,\"source/build\")\n",
    "sys.path.insert(0, ik_root)"
   ]
  },
  {
   "cell_type": "markdown",
   "metadata": {},
   "source": [
    "Start the physics client in Graphic mode"
   ]
  },
  {
   "cell_type": "code",
   "execution_count": 2,
   "metadata": {},
   "outputs": [],
   "source": [
    "physicsClient = p.connect(p.DIRECT)"
   ]
  },
  {
   "cell_type": "markdown",
   "metadata": {},
   "source": [
    "Add path for PyBullet exaples and useful assets such as the ground plane "
   ]
  },
  {
   "cell_type": "code",
   "execution_count": 3,
   "metadata": {},
   "outputs": [],
   "source": [
    "p.setAdditionalSearchPath(pybullet_data.getDataPath())"
   ]
  },
  {
   "cell_type": "markdown",
   "metadata": {},
   "source": [
    "Set the gravity"
   ]
  },
  {
   "cell_type": "code",
   "execution_count": 4,
   "metadata": {},
   "outputs": [],
   "source": [
    "p.setGravity(0,0,-9.79983)"
   ]
  },
  {
   "cell_type": "markdown",
   "metadata": {},
   "source": [
    "Load the ground"
   ]
  },
  {
   "cell_type": "code",
   "execution_count": 5,
   "metadata": {},
   "outputs": [],
   "source": [
    "planeId = p.loadURDF(\"plane.urdf\")"
   ]
  },
  {
   "cell_type": "markdown",
   "metadata": {},
   "source": [
    "Load the TEO urdf file above the ground plane"
   ]
  },
  {
   "cell_type": "code",
   "execution_count": 6,
   "metadata": {},
   "outputs": [],
   "source": [
    "teoStartOrientation = p.getQuaternionFromEuler([0,0,0])\n",
    "teoStartPosition = [0,0,0.86]\n",
    "urdf_path = os.path.join(urdf_root,\"TEO.urdf\")\n",
    "teoId = p.loadURDF(urdf_path,teoStartPosition ,teoStartOrientation)"
   ]
  },
  {
   "cell_type": "markdown",
   "metadata": {},
   "source": [
    "If loaded correctly we should see all the joint names and their joint ids"
   ]
  },
  {
   "cell_type": "code",
   "execution_count": 7,
   "metadata": {},
   "outputs": [],
   "source": [
    "import pickle"
   ]
  },
  {
   "cell_type": "code",
   "execution_count": 8,
   "metadata": {},
   "outputs": [
    {
     "ename": "NameError",
     "evalue": "name 'action_lows' is not defined",
     "output_type": "error",
     "traceback": [
      "\u001b[0;31m---------------------------------------------------------------------------\u001b[0m",
      "\u001b[0;31mNameError\u001b[0m                                 Traceback (most recent call last)",
      "\u001b[0;32m<ipython-input-8-68d478faf15c>\u001b[0m in \u001b[0;36m<module>\u001b[0;34m\u001b[0m\n\u001b[1;32m      1\u001b[0m \u001b[0;32mwith\u001b[0m \u001b[0mopen\u001b[0m\u001b[0;34m(\u001b[0m\u001b[0;34m'action_lows'\u001b[0m\u001b[0;34m,\u001b[0m \u001b[0;34m'wb'\u001b[0m\u001b[0;34m)\u001b[0m \u001b[0;32mas\u001b[0m \u001b[0mfp\u001b[0m\u001b[0;34m:\u001b[0m\u001b[0;34m\u001b[0m\u001b[0m\n\u001b[0;32m----> 2\u001b[0;31m     \u001b[0mpickle\u001b[0m\u001b[0;34m.\u001b[0m\u001b[0mdump\u001b[0m\u001b[0;34m(\u001b[0m\u001b[0maction_lows\u001b[0m\u001b[0;34m,\u001b[0m \u001b[0mfp\u001b[0m\u001b[0;34m)\u001b[0m\u001b[0;34m\u001b[0m\u001b[0m\n\u001b[0m\u001b[1;32m      3\u001b[0m \u001b[0;32mwith\u001b[0m \u001b[0mopen\u001b[0m\u001b[0;34m(\u001b[0m\u001b[0;34m'action_highs'\u001b[0m\u001b[0;34m,\u001b[0m \u001b[0;34m'wb'\u001b[0m\u001b[0;34m)\u001b[0m \u001b[0;32mas\u001b[0m \u001b[0mfp\u001b[0m\u001b[0;34m:\u001b[0m\u001b[0;34m\u001b[0m\u001b[0m\n\u001b[1;32m      4\u001b[0m     \u001b[0mpickle\u001b[0m\u001b[0;34m.\u001b[0m\u001b[0mdump\u001b[0m\u001b[0;34m(\u001b[0m\u001b[0maction_highs\u001b[0m\u001b[0;34m,\u001b[0m \u001b[0mfp\u001b[0m\u001b[0;34m)\u001b[0m\u001b[0;34m\u001b[0m\u001b[0m\n",
      "\u001b[0;31mNameError\u001b[0m: name 'action_lows' is not defined"
     ]
    }
   ],
   "source": [
    "with open('action_lows', 'wb') as fp:\n",
    "    pickle.dump(action_lows, fp)\n",
    "with open('action_highs', 'wb') as fp:\n",
    "    pickle.dump(action_highs, fp)"
   ]
  },
  {
   "cell_type": "code",
   "execution_count": 9,
   "metadata": {
    "scrolled": false
   },
   "outputs": [
    {
     "name": "stdout",
     "output_type": "stream",
     "text": [
      "b'waist_yaw' id = 0\n",
      "b'waist_pitch' id = 1\n",
      "b'head_yaw' id = 2\n",
      "b'head_pitch' id = 3\n",
      "b'l_shoulder_pitch' id = 4\n",
      "b'l_shoulder_roll' id = 5\n",
      "b'l_shoulder_yaw' id = 6\n",
      "b'l_elbow_pitch' id = 7\n",
      "b'l_wrist_yaw' id = 8\n",
      "b'l_wrist_pitch' id = 9\n",
      "b'r_shoulder_pitch' id = 10\n",
      "b'r_shoulder_roll' id = 11\n",
      "b'r_shoulder_yaw' id = 12\n",
      "b'r_elbow_pitch' id = 13\n",
      "b'r_wrist_yaw' id = 14\n",
      "b'r_wrist_pitch' id = 15\n",
      "b'l_hip_yaw' id = 16\n",
      "b'l_hip_roll' id = 17\n",
      "b'l_hip_pitch' id = 18\n",
      "b'l_knee_pitch' id = 19\n",
      "b'l_ankle_pitch' id = 20\n",
      "b'l_ankle_roll' id = 21\n",
      "b'l_sole_joint' id = 22\n",
      "b'r_hip_yaw' id = 23\n",
      "b'r_hip_roll' id = 24\n",
      "b'r_hip_pitch' id = 25\n",
      "b'r_knee_pitch' id = 26\n",
      "b'r_ankle_pitch' id = 27\n",
      "b'r_ankle_roll' id = 28\n",
      "b'r_sole_joint' id = 29\n"
     ]
    }
   ],
   "source": [
    "n_joints = p.getNumJoints(teoId)\n",
    "name2id={}\n",
    "for i in range(n_joints):\n",
    "    name2id[p.getJointInfo(teoId,i)[1]]=i\n",
    "    print(p.getJointInfo(teoId,i)[1], \"id =\", i)"
   ]
  },
  {
   "cell_type": "code",
   "execution_count": 10,
   "metadata": {},
   "outputs": [],
   "source": [
    "action_highs = []\n",
    "action_lows  = []\n",
    "for i in range(n_joints):\n",
    "    jointInfo = p.getJointInfo(teoId, i)\n",
    "    qIndex = jointInfo[3]\n",
    "    if qIndex > -1:\n",
    "        action_lows.append( p.getJointInfo(teoId, i)[8])\n",
    "        action_highs.append(p.getJointInfo(teoId, i)[9])"
   ]
  },
  {
   "cell_type": "markdown",
   "metadata": {},
   "source": [
    "### Define starting position"
   ]
  },
  {
   "cell_type": "markdown",
   "metadata": {},
   "source": [
    "We set the desired joint positions for the joint controllers to achieve. We also set the max force to the ones defined by the urdf and the max velocities to what we desire."
   ]
  },
  {
   "cell_type": "code",
   "execution_count": 11,
   "metadata": {},
   "outputs": [],
   "source": [
    "n_joints = p.getNumJoints(teoId)\n",
    "\n",
    "jointIndices = [0] * n_joints\n",
    "targetPos = [0.0] * n_joints\n",
    "maxVelocities = [radians(1)] * n_joints\n",
    "maxForces = [0.0] * n_joints\n",
    "\n",
    "\n",
    "for i in range(n_joints):\n",
    "    jointIndices[i] = i\n",
    "    maxForces[i] = p.getJointInfo(teoId,i)[10]\n",
    "    \n",
    "    \n",
    "    if p.getJointInfo(teoId,i)[1] == 'waist_yaw':\n",
    "        targetPos[i] = 0\n",
    "    elif p.getJointInfo(teoId,i)[1] == 'r_shoulder_roll':\n",
    "        targetPos[i] = radians(-0)\n",
    "        \n",
    "    elif p.getJointInfo(teoId,i)[1] == 'r_hip_roll':\n",
    "        targetPos[i] = radians(0)\n",
    "    elif p.getJointInfo(teoId,i)[1] == 'r_knee_pitch':\n",
    "        targetPos[i] = radians(0)\n",
    "    elif p.getJointInfo(teoId,i)[1] == 'r_ankle_pitch':\n",
    "        targetPos[i] = radians(-0)\n",
    "    elif p.getJointInfo(teoId,i)[1] == 'r_ankle_roll':\n",
    "        targetPos[i] = radians(-0)\n",
    "        \n",
    "    elif p.getJointInfo(teoId,i)[1] == 'l_hip_roll':\n",
    "        targetPos[i] = radians(0)\n",
    "    elif p.getJointInfo(teoId,i)[1] == 'l_ankle_roll':\n",
    "        targetPos[i] = radians(-0)\n",
    "        \n",
    "    elif p.getJointInfo(teoId,i)[1] == 'l_shoulder_roll':\n",
    "        targetPos[i] = radians(0)\n",
    "    else:\n",
    "        targetPos[i] = 0"
   ]
  },
  {
   "cell_type": "markdown",
   "metadata": {},
   "source": [
    "We set the joint control with the created arrays and set it to position control."
   ]
  },
  {
   "cell_type": "code",
   "execution_count": 12,
   "metadata": {},
   "outputs": [],
   "source": [
    "mode = p.POSITION_CONTROL\n",
    "\n",
    "p.setJointMotorControlArray(teoId,\n",
    "                            jointIndices, \n",
    "                            controlMode=mode,\n",
    "                            forces=maxForces,\n",
    "                            targetVelocities = maxVelocities,\n",
    "                            targetPositions = targetPos\n",
    "                           )"
   ]
  },
  {
   "cell_type": "markdown",
   "metadata": {},
   "source": [
    "Advance simulation until the robot is stable"
   ]
  },
  {
   "cell_type": "markdown",
   "metadata": {},
   "source": [
    "## Gait"
   ]
  },
  {
   "cell_type": "code",
   "execution_count": 13,
   "metadata": {},
   "outputs": [],
   "source": [
    "timestep = 1/240\n",
    "p.setTimeStep(timestep)"
   ]
  },
  {
   "cell_type": "markdown",
   "metadata": {},
   "source": [
    "#### Step parameters"
   ]
  },
  {
   "cell_type": "code",
   "execution_count": 14,
   "metadata": {},
   "outputs": [],
   "source": [
    "pos_l = np.asarray(p.getLinkState(teoId,name2id[b'l_sole_joint'])[0])\n",
    "pos_r = np.asarray(p.getLinkState(teoId,name2id[b'r_sole_joint'])[0])\n",
    "\n",
    "NUMBER_OF_STEPS = 5\n",
    "\n",
    "# All units in S.I.\n",
    "step_duration=10\n",
    "step_height=0.02\n",
    "step_length=0.07\n",
    "step_width=pos = pos_l[1]-pos_r[1]\n",
    "\n",
    "foot_width=(70+70)/1000\n",
    "foot_length=(180+70)/1000\n",
    "\n",
    "com_height = 0.75\n",
    "\n",
    "# Percentage in length of the suport polygon to plan the ZMP in\n",
    "stable_percentage = 0.3 # 80%\n",
    "\n",
    "\n",
    "ori_quat=p.getLinkState(teoId,name2id[b'r_sole_joint'])[1]"
   ]
  },
  {
   "cell_type": "markdown",
   "metadata": {},
   "source": [
    "#### Intepolating polynomial (5th degree)"
   ]
  },
  {
   "cell_type": "code",
   "execution_count": 15,
   "metadata": {},
   "outputs": [],
   "source": [
    "def trayectory_pol(xi,xti,xtti,xf,xtf,xttf,T):\n",
    "    return lambda t:(6*t**5*xf)/T**5 - (15*t**4*xf)/T**4 + (10*t**3*xf)/T**3 + xi - (6*t**5*xi)/T**5 + (15*t**4*xi)/T**4 - (10*t**3*xi)/T**3 - (3*t**5*xtf)/T**4 + (7*t**4*xtf)/T**3 - (4*t**3*xtf)/T**2 + t*xti - (3*t**5*xti)/T**4 + (8*t**4*xti)/T**3 - (6*t**3*xti)/T**2 + (t**5*xttf)/(2.*T**3) - (t**4*xttf)/T**2 + (t**3*xttf)/(2.*T) + (t**2*xtti)/2. - (t**5*xtti)/(2.*T**3) + (3*t**4*xtti)/(2.*T**2) - (3*t**3*xtti)/(2.*T)"
   ]
  },
  {
   "cell_type": "markdown",
   "metadata": {},
   "source": [
    "#### ZMP"
   ]
  },
  {
   "cell_type": "code",
   "execution_count": 16,
   "metadata": {
    "scrolled": true
   },
   "outputs": [],
   "source": [
    "com = np.asarray([8.67/1000, -0.03/1000, 14.06/1000])+np.asarray(list(p.getBasePositionAndOrientation(teoId)[0]))\n",
    "\n",
    "L  = lambda n : np.array([step_length, -(-1)**n*step_width, 0])\n",
    "RT = lambda theta_n : np.array([[np.cos(theta_n),-np.sin(theta_n),0],\n",
    "                                [np.sin(theta_n), np.cos(theta_n),0],\n",
    "                                [       0       ,       0        ,1]])\n",
    "\n",
    "def P_n(P_previous, theta_n, n):\n",
    "    return P_previous + np.dot(RT(theta_n),L(n))\n",
    "\n",
    "def ZMP_n(ZMP_previous, theta_n1, n):\n",
    "    return ZMP_previous + np.dot(RT(theta_n),L(n)/2) "
   ]
  },
  {
   "cell_type": "code",
   "execution_count": 17,
   "metadata": {
    "scrolled": true
   },
   "outputs": [
    {
     "data": {
      "text/plain": [
       "<Figure size 1850x1050 with 1 Axes>"
      ]
     },
     "metadata": {},
     "output_type": "display_data"
    }
   ],
   "source": [
    "import matplotlib.pyplot as plt\n",
    "import matplotlib.patches as patches\n",
    "from mpl_toolkits.mplot3d import Axes3D\n",
    "\n",
    "# import jtplot submodule from jupyterthemes\n",
    "from jupyterthemes import jtplot\n",
    "\n",
    "# currently installed theme will be used to\n",
    "# set plot style if no arguments provided\n",
    "jtplot.style()\n",
    "\n",
    "\n",
    "\n",
    "P = np.array([pos_r])\n",
    "ZMP = np.array([(pos_r+pos_l)/2, pos_r])\n",
    "\n",
    "\n",
    "\n",
    "theta_n = 0\n",
    "rects = [patches.Rectangle((pos_l[0]-0.07,pos_l[1]-0.07), foot_length,foot_width,\n",
    "                                   linewidth=2,edgecolor='b',facecolor='none')]\n",
    "\n",
    "for i in range(3,14):\n",
    "    #print(\"i=\",i)\n",
    "    \n",
    "    if i%2==1:\n",
    "        n = int(i/2)\n",
    "        #print(\"n=\",n)\n",
    "        corner =P[n-1,0:2]-np.array([0.07,0.07])\n",
    "        if n % 2:\n",
    "            edge_color='r'\n",
    "        else:\n",
    "            edge_color='b'\n",
    "        rects.append(patches.Rectangle((corner[0],corner[1]), foot_length,foot_width,\n",
    "                                       linewidth=2,edgecolor=edge_color,facecolor='none'))\n",
    "        P_next = P_n(P[n-1], theta_n, n)\n",
    "        P=np.concatenate((P,np.array([P_next])))\n",
    "        ZMP_next = P[n-1]+np.array([.18,0,0])*stable_percentage \n",
    "        ZMP=np.concatenate((ZMP,np.array([ZMP_next])))\n",
    "    else:\n",
    "        ZMP_next = P[n]-np.array([.07,0,0])*stable_percentage**2\n",
    "        ZMP=np.concatenate((ZMP,np.array([ZMP_next])))\n",
    "    \n",
    "\n",
    "\n",
    "P[-1]=P[-1]-np.array([step_length, 0, 0])\n",
    "n = n+1\n",
    "corner =P[n-1,0:2]-np.array([0.07,0.07])\n",
    "if n % 2:\n",
    "    edge_color='r'\n",
    "else:\n",
    "    edge_color='b'\n",
    "rects.append(patches.Rectangle((corner[0],corner[1]), foot_length,foot_width,\n",
    "                               linewidth=2,edgecolor=edge_color,facecolor='none'))\n",
    "\n",
    "ZMP[-1]=ZMP[-1]-np.array([.18,0,0])*stable_percentage \n",
    "ZMP_next = (P[-1]+P[-2])/2\n",
    "ZMP=np.concatenate((ZMP,np.array([ZMP_next])))\n",
    "\n",
    "\n",
    "#print(ZMP)\n",
    "\n",
    "fig,axes = plt.subplots(1)\n",
    "                        \n",
    "fig.set_size_inches(18.5, 10.5)\n",
    "fig.savefig('test2png.png', dpi=100)\n",
    "\n",
    "plt.plot(ZMP[:,0], ZMP[:,1], 'k')\n",
    "\n",
    "axes.set_xlim([-0.1,1.3])\n",
    "axes.set_ylim([-0.3,0.3])\n",
    "axes.set_aspect('equal')\n",
    "\n",
    "\n",
    "axes.legend(['ZMP_ref'])\n",
    "for rect in rects:\n",
    "    axes.add_patch(rect)\n",
    "    \n",
    "plt.show()"
   ]
  },
  {
   "cell_type": "markdown",
   "metadata": {},
   "source": [
    "## Inverse Kinematics"
   ]
  },
  {
   "cell_type": "markdown",
   "metadata": {},
   "source": [
    "Define the paden-kahan solutions (numeric)"
   ]
  },
  {
   "cell_type": "code",
   "execution_count": 18,
   "metadata": {},
   "outputs": [],
   "source": [
    "import screwIK as ik"
   ]
  },
  {
   "cell_type": "markdown",
   "metadata": {},
   "source": [
    "### Solving in Numeric"
   ]
  },
  {
   "cell_type": "markdown",
   "metadata": {},
   "source": [
    "Define the properties of the robot"
   ]
  },
  {
   "cell_type": "code",
   "execution_count": 19,
   "metadata": {},
   "outputs": [],
   "source": [
    "x_com = 0\n",
    "y_com = 0\n",
    "z_com = 0.64\n",
    "\n",
    "l0 = 0.1932\n",
    "l1 = 0.305\n",
    "l2 = 0.1625\n",
    "l3 = 0.059742\n",
    "l4 = 0.037508\n",
    "l5 = 0.34692\n",
    "l6 = 0.32992\n",
    "l7 = 0.215\n",
    "l8 = 0.090\n",
    "\n",
    "l9 = 0.092\n",
    "l10 = 0.330\n",
    "l11 = 0.300\n",
    "l12 = 0.123005\n",
    "\n",
    "l13 = 0.146\n",
    "l14 = 0.018\n",
    "l15 = 0.026\n",
    "l16 = 0.0175"
   ]
  },
  {
   "cell_type": "markdown",
   "metadata": {},
   "source": [
    "### Right leg"
   ]
  },
  {
   "cell_type": "code",
   "execution_count": 20,
   "metadata": {},
   "outputs": [],
   "source": [
    "rightLegIndices=[name2id[b'r_ankle_roll'],\n",
    "                 name2id[b'r_ankle_pitch'],\n",
    "                 name2id[b'r_knee_pitch'],\n",
    "                 name2id[b'r_hip_pitch'],\n",
    "                 name2id[b'r_hip_roll'],\n",
    "                 name2id[b'r_hip_yaw']]"
   ]
  },
  {
   "cell_type": "markdown",
   "metadata": {},
   "source": [
    "### Left leg"
   ]
  },
  {
   "cell_type": "code",
   "execution_count": 21,
   "metadata": {},
   "outputs": [],
   "source": [
    "leftLegIndices= [name2id[b'l_ankle_roll'],\n",
    "                 name2id[b'l_ankle_pitch'],\n",
    "                 name2id[b'l_knee_pitch'],\n",
    "                 name2id[b'l_hip_pitch'],\n",
    "                 name2id[b'l_hip_roll'],\n",
    "                 name2id[b'l_hip_yaw']]"
   ]
  },
  {
   "cell_type": "code",
   "execution_count": 22,
   "metadata": {},
   "outputs": [],
   "source": [
    "# Print iterations progress\n",
    "def printProgressBar (iteration, total, prefix = '', suffix = '', decimals = 1, length = 100, fill = '█', printEnd = \"\\r\"):\n",
    "    \"\"\"\n",
    "    Call in a loop to create terminal progress bar\n",
    "    @params:\n",
    "        iteration   - Required  : current iteration (Int)\n",
    "        total       - Required  : total iterations (Int)\n",
    "        prefix      - Optional  : prefix string (Str)\n",
    "        suffix      - Optional  : suffix string (Str)\n",
    "        decimals    - Optional  : positive number of decimals in percent complete (Int)\n",
    "        length      - Optional  : character length of bar (Int)\n",
    "        fill        - Optional  : bar fill character (Str)\n",
    "        printEnd    - Optional  : end character (e.g. \"\\r\", \"\\r\\n\") (Str)\n",
    "    \"\"\"\n",
    "    percent = (\"{0:.\" + str(decimals) + \"f}\").format(100 * (iteration / float(total)))\n",
    "    filledLength = int(length * iteration // total)\n",
    "    bar = fill * filledLength + '-' * (length - filledLength)\n",
    "    print('\\r%s |%s| %s%% %s' % (prefix, bar, percent, suffix), end = printEnd)\n",
    "    # Print New Line on Complete\n",
    "    if iteration == total: \n",
    "        print()"
   ]
  },
  {
   "cell_type": "markdown",
   "metadata": {},
   "source": [
    "Reset the Simulation if needed"
   ]
  },
  {
   "cell_type": "code",
   "execution_count": 23,
   "metadata": {},
   "outputs": [],
   "source": [
    "def reset_sim(com_0 = np.array([0,0,l9+l10+l11+l12-0.001]), orientation=np.array([0,0,0]), g=-9.79983):\n",
    "    p.resetSimulation()\n",
    "    p.setTimeStep(timestep)\n",
    "    p.setGravity(0,0,g)\n",
    "    planeId = p.loadURDF(\"plane.urdf\")\n",
    "    teoStartOrientation = p.getQuaternionFromEuler(-orientation)\n",
    "    \n",
    "    teoStartPosition = [0,0,com_0[2]]\n",
    "    \n",
    "    urdf_path = os.path.join(urdf_root,\"TEO.urdf\")\n",
    "    teoId = p.loadURDF(urdf_path,teoStartPosition ,teoStartOrientation)\n",
    "    #print(\"TEO pos =\",p.getBasePositionAndOrientation(teoId)[0])\n",
    "    n_joints = p.getNumJoints(teoId)\n",
    "    name2id={}\n",
    "\n",
    "    for i in range(n_joints):\n",
    "        name2id[p.getJointInfo(teoId,i)[1]]=i\n",
    "    n_joints = p.getNumJoints(teoId)\n",
    "\n",
    "    jointIndices = [0] * n_joints\n",
    "    targetPos = [0.0] * n_joints\n",
    "    maxVelocities = [radians(1)] * n_joints\n",
    "    maxForces = [0.0] * n_joints\n",
    "\n",
    "\n",
    "    for i in range(n_joints):\n",
    "        jointIndices[i] = i\n",
    "        maxForces[i] = p.getJointInfo(teoId,i)[10]\n",
    "        targetPos[i] = 0\n",
    "\n",
    "\n",
    "    rightLegAngles= ik.rl_com_from_foot(com_0 , orientation)\n",
    "    leftLegAngles = ik.ll_com_from_foot(com_0 , orientation)\n",
    "\n",
    "    '''\n",
    "    print(\"com    =\",com_0)\n",
    "    print(\"com_f  =\",com_0+np.array([0,l16,-l12]))\n",
    "    print()\n",
    "    print(\"Hst0_r =\",[0,-l16,l9+l10+l11+l12])\n",
    "    print(\"rightLegP(com_0) =\",rightLegP(com_0))\n",
    "    print(\"rightLegAngles =\",[degrees(q) for q in rightLegAngles])\n",
    "    print()\n",
    "    print(\"Hst0_l =\",[0,l16,l9+l10+l11+l12])\n",
    "    print(\"leftLegP(com_0) =\",leftLegP(com_0))\n",
    "    print(\"leftLegAngles =\",[degrees(q) for q in leftLegAngles])\n",
    "    '''\n",
    "\n",
    "    for i, index in enumerate(rightLegIndices):\n",
    "        if np.isnan(rightLegAngles[i]):\n",
    "            pass\n",
    "        else:\n",
    "            targetPos[index]=rightLegAngles[i]\n",
    "\n",
    "    for i, index in enumerate(leftLegIndices):\n",
    "        if np.isnan(leftLegAngles[i]):\n",
    "            pass\n",
    "        else:\n",
    "            targetPos[index]=leftLegAngles[i]\n",
    "\n",
    "    for jointIndex in range(n_joints):\n",
    "        p.resetJointState(teoId,\n",
    "                          jointIndex,\n",
    "                          targetPos[jointIndex])\n",
    "\n",
    "    mode = p.POSITION_CONTROL\n",
    "    p.setJointMotorControlArray(teoId,\n",
    "                                jointIndices, \n",
    "                                controlMode=mode,\n",
    "                                forces=maxForces,\n",
    "                                targetPositions = targetPos\n",
    "                               )\n",
    "    return teoId\n",
    "\n",
    "def repos(teoId, com_0 = np.array([0,0,l9+l10+l11+l12-0.001]), orientation=np.array([0,0,0])):\n",
    "    \n",
    "    p.resetBasePositionAndOrientation(teoId, com_0+np.array([8.67, -0.03, 24.06])/1000, p.getQuaternionFromEuler(orientation))\n",
    "    \n",
    "    n_joints = p.getNumJoints(teoId)\n",
    "    name2id={}\n",
    "    \n",
    "    for i in range(n_joints):\n",
    "        name2id[p.getJointInfo(teoId,i)[1]]=i\n",
    "    n_joints = p.getNumJoints(teoId)\n",
    "\n",
    "    jointIndices = [0] * n_joints\n",
    "    targetPos = [0.0] * n_joints\n",
    "    maxVelocities = [radians(1)] * n_joints\n",
    "    maxForces = [0.0] * n_joints\n",
    "\n",
    "\n",
    "    for i in range(n_joints):\n",
    "        jointIndices[i] = i\n",
    "        maxForces[i] = p.getJointInfo(teoId,i)[10]\n",
    "        targetPos[i] = 0\n",
    "\n",
    "\n",
    "    rightLegAngles= ik.rl_com_from_foot(com_0 , orientation)\n",
    "    leftLegAngles = ik.ll_com_from_foot(com_0 , orientation)\n",
    "\n",
    "    for i, index in enumerate(rightLegIndices):\n",
    "        if np.isnan(rightLegAngles[i]):\n",
    "            pass\n",
    "        else:\n",
    "            targetPos[index]=rightLegAngles[i]\n",
    "\n",
    "    for i, index in enumerate(leftLegIndices):\n",
    "        if np.isnan(leftLegAngles[i]):\n",
    "            pass\n",
    "        else:\n",
    "            targetPos[index]=leftLegAngles[i]\n",
    "\n",
    "    for jointIndex in range(n_joints):\n",
    "        p.resetJointState(teoId,\n",
    "                          jointIndex,\n",
    "                          targetPos[jointIndex])\n",
    "\n",
    "    mode = p.POSITION_CONTROL\n",
    "    p.setJointMotorControlArray(teoId,\n",
    "                                jointIndices, \n",
    "                                controlMode=mode,\n",
    "                                forces=maxForces,\n",
    "                                targetPositions = targetPos\n",
    "                               )"
   ]
  },
  {
   "cell_type": "markdown",
   "metadata": {},
   "source": [
    "### Gait generation"
   ]
  },
  {
   "cell_type": "markdown",
   "metadata": {},
   "source": [
    "Start from stable"
   ]
  },
  {
   "cell_type": "code",
   "execution_count": 24,
   "metadata": {},
   "outputs": [],
   "source": [
    "def plot3d(list_of_lines, list_of_names=None):\n",
    "    fig = plt.figure()\n",
    "    ax = plt.axes(projection=\"3d\")\n",
    "    ax.view_init(30, 35)\n",
    "    for i, line in enumerate(list_of_lines):\n",
    "        x_line = np.asarray(line)[:,0]\n",
    "        y_line = np.asarray(line)[:,1]\n",
    "        z_line = np.asarray(line)[:,2]\n",
    "        if list_of_names is not None:\n",
    "            ax.plot3D(x_line, y_line, z_line, label=list_of_names[i])\n",
    "        else:\n",
    "            ax.plot3D(x_line, y_line, z_line, label=\"Line \"+str(i+1))\n",
    "    ax.legend()\n",
    "    plt.show()"
   ]
  },
  {
   "cell_type": "code",
   "execution_count": 25,
   "metadata": {},
   "outputs": [
    {
     "data": {
      "text/plain": [
       "1"
      ]
     },
     "execution_count": 25,
     "metadata": {},
     "output_type": "execute_result"
    }
   ],
   "source": [
    "p.setRealTimeSimulation(True)\n",
    "com_0 = np.array([-0.02,0,l12+l11+l10+l9-0.005])\n",
    "reset_sim(com_0=com_0)"
   ]
  },
  {
   "cell_type": "code",
   "execution_count": 26,
   "metadata": {},
   "outputs": [
    {
     "name": "stdout",
     "output_type": "stream",
     "text": [
      "[-0.02  0.    0.84]\n"
     ]
    },
    {
     "data": {
      "text/plain": [
       "array([-0.02867, -0.01747,  0.89407])"
      ]
     },
     "execution_count": 26,
     "metadata": {},
     "output_type": "execute_result"
    }
   ],
   "source": [
    "print(com_0)\n",
    "ik.ll_fk_com_from_foot(ik.ll_com_from_foot(com_0, [0,0,0]))-np.array([0,0,-0.03])"
   ]
  },
  {
   "cell_type": "code",
   "execution_count": 27,
   "metadata": {},
   "outputs": [],
   "source": [
    "repos(teoId,com_0=com_0)"
   ]
  },
  {
   "cell_type": "code",
   "execution_count": 28,
   "metadata": {},
   "outputs": [],
   "source": [
    "for i in range(200):\n",
    "    p.stepSimulation()"
   ]
  },
  {
   "cell_type": "markdown",
   "metadata": {},
   "source": [
    "Transfer weight to left leg"
   ]
  },
  {
   "cell_type": "code",
   "execution_count": 29,
   "metadata": {},
   "outputs": [
    {
     "name": "stdout",
     "output_type": "stream",
     "text": [
      "Progress: |████████████████████| 100.0% Complete\n"
     ]
    }
   ],
   "source": [
    "n_timesteps = 200\n",
    "\n",
    "r_angles_plot = []\n",
    "l_angles_plot = []\n",
    "\n",
    "lfoot_plot = []\n",
    "rfoot_plot = []\n",
    "com_plot = []\n",
    "\n",
    "test_joint = name2id[b'l_ankle_roll']\n",
    "test_sent = []\n",
    "test_measured = [] \n",
    "\n",
    "com_x_trayectory = 0\n",
    "com_y_trayectory = trayectory_pol(0,0,0,(l13-l16-0),0,0,n_timesteps)\n",
    "com_z_trayectory = 0\n",
    "\n",
    "# in euler angles\n",
    "orientation = [0,0,0]\n",
    "\n",
    "for t in range(n_timesteps):\n",
    "    p.stepSimulation()\n",
    "    \n",
    "    test_measured.append(p.getJointState(teoId,test_joint)[0])\n",
    "    \n",
    "    \n",
    "    printProgressBar(t+1, n_timesteps, prefix = 'Progress:', suffix = 'Complete', length = 20)\n",
    "\n",
    "    com_trajectory = np.array([0,\n",
    "                               com_y_trayectory(t),\n",
    "                               0])\n",
    "    \n",
    "    com_r_t = com_0 - com_trajectory\n",
    "    com_l_t = com_0 - com_trajectory\n",
    "    \n",
    "    \n",
    "    leftLegAngles =ik.ll_com_from_foot(com_r_t ,orientation)\n",
    "    rightLegAngles=ik.rl_com_from_foot(com_l_t ,orientation)\n",
    "    \n",
    "    l_angles_plot.append(leftLegAngles)\n",
    "    r_angles_plot.append(rightLegAngles)\n",
    "    com_plot.append(com_l_t)\n",
    "    \n",
    "    \n",
    "    for i, index in enumerate(rightLegIndices):\n",
    "        if np.isnan(rightLegAngles[i]):\n",
    "            pass\n",
    "        else:\n",
    "            targetPos[index]=rightLegAngles[i]\n",
    "            \n",
    "        if index == test_joint:\n",
    "            test_sent.append(rightLegAngles[i])\n",
    "\n",
    "    for i, index in enumerate(leftLegIndices):\n",
    "        if np.isnan(leftLegAngles[i]):\n",
    "            pass\n",
    "        else:\n",
    "            targetPos[index]=leftLegAngles[i]\n",
    "            \n",
    "        if index == test_joint:\n",
    "            test_sent.append(rightLegAngles[i])\n",
    "    \n",
    "    p.setJointMotorControlArray(teoId,\n",
    "                                jointIndices, \n",
    "                                controlMode=mode,\n",
    "                                forces=maxForces,\n",
    "                                targetVelocities = maxVelocities,\n",
    "                                targetPositions = targetPos\n",
    "                               )\n",
    "\n",
    "    time.sleep(timestep)\n",
    "    \n",
    "com_r_0 = com_r_t\n",
    "com_l_0 = com_l_t\n"
   ]
  },
  {
   "cell_type": "markdown",
   "metadata": {},
   "source": [
    "Step with right foot"
   ]
  },
  {
   "cell_type": "code",
   "execution_count": 30,
   "metadata": {},
   "outputs": [
    {
     "name": "stdout",
     "output_type": "stream",
     "text": [
      "Progress: |████████████████████| 100.0% Lowering Foot\n"
     ]
    }
   ],
   "source": [
    "#                                   f(0) f'(0)  f''(0)             f(T)               f'(T)                 f''(T)       T          \n",
    "rfoot_x_trayectory = trayectory_pol( 0,   0,      0,         step_length/2,  step_length/int(n_timesteps/2),  0,  int(n_timesteps/2))\n",
    "rfoot_y_trayectory = trayectory_pol( 0,   0,      0,                0,                  0,                    0,  int(n_timesteps/2))\n",
    "rfoot_z_trayectory = trayectory_pol( 0,   0,      0,          -step_height,             0,                    0,  int(n_timesteps/2))\n",
    "\n",
    "\n",
    "for t in range(int(n_timesteps/2)):\n",
    "    p.stepSimulation()\n",
    "    \n",
    "    printProgressBar(t+1, n_timesteps, prefix = 'Progress:', suffix = 'Raising Foot', length = 20)\n",
    "    \n",
    "    rfoot_trajectory = np.array([rfoot_x_trayectory(t),\n",
    "                                 rfoot_y_trayectory(t),\n",
    "                                 rfoot_z_trayectory(t)])\n",
    "    \n",
    "    # Since we want the foot to move, we have to move the com\n",
    "    # in the opposite direction.\n",
    "    com_r_t = com_r_0 + rfoot_trajectory\n",
    "    \n",
    "    rightLegAngles=ik.rl_com_from_foot(com_r_t ,orientation)\n",
    "    \n",
    "    l_angles_plot.append(leftLegAngles)\n",
    "    r_angles_plot.append(rightLegAngles)\n",
    "    rfoot_plot.append(rfoot_trajectory)\n",
    "    com_plot.append(com_r_t)\n",
    "    \n",
    "    for i, index in enumerate(rightLegIndices):\n",
    "        if not np.isnan(rightLegAngles[i]):\n",
    "            targetPos[index]=rightLegAngles[i]\n",
    "\n",
    "    \n",
    "    p.setJointMotorControlArray(teoId,\n",
    "                                jointIndices, \n",
    "                                controlMode=mode,\n",
    "                                forces=maxForces,\n",
    "                                targetVelocities = maxVelocities,\n",
    "                                targetPositions = targetPos\n",
    "                               )\n",
    "\n",
    "    time.sleep(timestep)\n",
    "\n",
    "rfoot_trajectory0 = rfoot_trajectory\n",
    "\n",
    "com_r_1 = com_r_t\n",
    "com_l_1 = com_l_t\n",
    "\n",
    "#                                  f(0) f'(0)                       f''(0)   f(T)     f'(T) f''(T)       T          \n",
    "rfoot_x_trayectory = trayectory_pol(0, step_length/int(n_timesteps/2),0, step_length/2, 0,  0,  int(n_timesteps/2))\n",
    "rfoot_y_trayectory = trayectory_pol(0,    0,                          0,        0,       0,  0,  int(n_timesteps/2))\n",
    "rfoot_z_trayectory = trayectory_pol(0,    0,                          0,  step_height,   0,  0,  int(n_timesteps/2))\n",
    "\n",
    "for t in range(int(n_timesteps/2)):\n",
    "    p.stepSimulation()\n",
    "    \n",
    "    rfoot_trajectory = np.array([rfoot_x_trayectory(t),\n",
    "                                 rfoot_y_trayectory(t),\n",
    "                                 rfoot_z_trayectory(t)])\n",
    "\n",
    "    \n",
    "    printProgressBar(n_timesteps/2+t+1, n_timesteps, prefix = 'Progress:', suffix = 'Lowering Foot', length = 20)\n",
    "    \n",
    "    com_r_t = com_r_1 + rfoot_trajectory\n",
    "    \n",
    "    rightLegAngles=ik.rl_com_from_foot(com_r_t ,orientation)\n",
    "    \n",
    "    l_angles_plot.append(leftLegAngles)\n",
    "    r_angles_plot.append(rightLegAngles)\n",
    "    rfoot_plot.append(rfoot_trajectory + rfoot_trajectory0)\n",
    "    com_plot.append(com_r_t)\n",
    "    \n",
    "    for i, index in enumerate(rightLegIndices):\n",
    "        if not np.isnan(rightLegAngles[i]):\n",
    "            targetPos[index]=rightLegAngles[i]\n",
    "\n",
    "    p.setJointMotorControlArray(teoId,\n",
    "                                jointIndices, \n",
    "                                controlMode=mode,\n",
    "                                forces=maxForces,\n",
    "                                targetVelocities = maxVelocities,\n",
    "                                targetPositions = targetPos\n",
    "                               )\n",
    "\n",
    "    time.sleep(timestep)\n",
    "\n",
    "com_r_0 = com_r_t\n",
    "com_l_0 = com_l_t"
   ]
  },
  {
   "cell_type": "markdown",
   "metadata": {},
   "source": [
    "Change weight to right foot"
   ]
  },
  {
   "cell_type": "code",
   "execution_count": 31,
   "metadata": {},
   "outputs": [
    {
     "name": "stdout",
     "output_type": "stream",
     "text": [
      "Progress: |████████████████████| 100.0% Complete\n"
     ]
    }
   ],
   "source": [
    "n_timesteps = 500\n",
    "\n",
    "#                                   f(0) f'(0)  f''(0)             f(T)               f'(T)                 f''(T)       T          \n",
    "rfoot_x_trayectory = trayectory_pol( 0,   0,      0,          -step_length,             0,                    0,  int(n_timesteps))\n",
    "rfoot_y_trayectory = trayectory_pol( 0,   0,      0,           2*(l13-l16),              0,                    0,  int(n_timesteps))\n",
    "rfoot_z_trayectory = trayectory_pol( 0,   0,      0,                0,                  0,                    0,  int(n_timesteps))\n",
    "\n",
    "#                                   f(0) f'(0)  f''(0)             f(T)               f'(T)                 f''(T)       T          \n",
    "lfoot_x_trayectory = trayectory_pol( 0,   0,      0,          -step_length,             0,                    0,  int(n_timesteps))\n",
    "lfoot_y_trayectory = trayectory_pol( 0,   0,      0,           2*(l13-l16),              0,                    0,  int(n_timesteps))\n",
    "lfoot_z_trayectory = trayectory_pol( 0,   0,      0,                 0,                 0,                    0,  int(n_timesteps))\n",
    "\n",
    "\n",
    "for t in range(n_timesteps):\n",
    "    p.stepSimulation()\n",
    "    \n",
    "    printProgressBar(t+1, n_timesteps, prefix ='Progress:', suffix = 'Complete', length = 20)\n",
    "\n",
    "    rfoot_trajectory = np.array([rfoot_x_trayectory(t),\n",
    "                                 rfoot_y_trayectory(t),\n",
    "                                 rfoot_z_trayectory(t)])\n",
    "    \n",
    "    lfoot_trajectory = np.array([lfoot_x_trayectory(t),\n",
    "                                 lfoot_y_trayectory(t),\n",
    "                                 lfoot_z_trayectory(t)])\n",
    "    \n",
    "    com_r_t = com_r_0 + rfoot_trajectory\n",
    "    com_l_t = com_l_0 + lfoot_trajectory\n",
    "    \n",
    "    rightLegAngles = ik.rl_com_from_foot(com_r_t ,orientation)\n",
    "    leftLegAngles  = ik.ll_com_from_foot(com_l_t ,orientation)\n",
    "\n",
    "    l_angles_plot.append(leftLegAngles)\n",
    "    r_angles_plot.append(rightLegAngles)\n",
    "    com_plot.append(com_l_t)\n",
    "\n",
    "    for i, index in enumerate(rightLegIndices):\n",
    "        if not np.isnan(rightLegAngles[i]):\n",
    "            targetPos[index]=rightLegAngles[i]\n",
    "\n",
    "    for i, index in enumerate(leftLegIndices):\n",
    "        if not np.isnan(leftLegAngles[i]):\n",
    "            targetPos[index]=leftLegAngles[i] \n",
    "    \n",
    "    p.setJointMotorControlArray(teoId,\n",
    "                                jointIndices, \n",
    "                                controlMode=mode,\n",
    "                                forces=maxForces,\n",
    "                                targetVelocities = maxVelocities,\n",
    "                                targetPositions = targetPos\n",
    "                               )\n",
    "\n",
    "    time.sleep(timestep)\n",
    "\n",
    "com_r_0 = com_r_t\n",
    "com_l_0 = com_l_t"
   ]
  },
  {
   "cell_type": "markdown",
   "metadata": {},
   "source": [
    "Step with left foot"
   ]
  },
  {
   "cell_type": "code",
   "execution_count": 32,
   "metadata": {},
   "outputs": [
    {
     "name": "stdout",
     "output_type": "stream",
     "text": [
      "Progress: |████████████████████| 100.0% Lowering Foot\n"
     ]
    }
   ],
   "source": [
    "n_timesteps = 200\n",
    "\n",
    "#                                   f(0) f'(0)  f''(0)             f(T)               f'(T)                 f''(T)       T          \n",
    "lfoot_x_trayectory = trayectory_pol( 0,   0,      0,           step_length,  step_length/int(n_timesteps/2),  0,  int(n_timesteps/2))\n",
    "lfoot_y_trayectory = trayectory_pol( 0,   0,      0,                0,                  0,                    0,  int(n_timesteps/2))\n",
    "lfoot_z_trayectory = trayectory_pol( 0,   0,      0,          -step_height,             0,                    0,  int(n_timesteps/2))\n",
    "\n",
    "\n",
    "for t in range(int(n_timesteps/2)):\n",
    "    p.stepSimulation()\n",
    "    \n",
    "    printProgressBar(t+1, n_timesteps, prefix = 'Progress:', suffix = 'Raising Foot', length = 20)\n",
    "    \n",
    "    lfoot_trajectory = np.array([lfoot_x_trayectory(t),\n",
    "                                 lfoot_y_trayectory(t),\n",
    "                                 lfoot_z_trayectory(t)])\n",
    "    \n",
    "    # Since we want the foot to move, we have to move the com\n",
    "    # in the opposite direction.\n",
    "    com_l_t = com_l_0 + lfoot_trajectory\n",
    "    \n",
    "    leftLegAngles=ik.ll_com_from_foot(com_l_t ,orientation)\n",
    "    \n",
    "    l_angles_plot.append(leftLegAngles)\n",
    "    r_angles_plot.append(rightLegAngles)\n",
    "    rfoot_plot.append(rfoot_trajectory)\n",
    "    com_plot.append(com_r_t)\n",
    "    \n",
    "    for i, index in enumerate(leftLegIndices):\n",
    "        if not np.isnan(leftLegAngles[i]):\n",
    "            targetPos[index]=leftLegAngles[i]\n",
    "\n",
    "    \n",
    "    p.setJointMotorControlArray(teoId,\n",
    "                                jointIndices, \n",
    "                                controlMode=mode,\n",
    "                                forces=maxForces,\n",
    "                                targetVelocities = maxVelocities,\n",
    "                                targetPositions = targetPos\n",
    "                               )\n",
    "\n",
    "    time.sleep(timestep)\n",
    "\n",
    "lfoot_trajectory0 = lfoot_trajectory\n",
    "\n",
    "com_r_1 = com_r_t\n",
    "com_l_1 = com_l_t\n",
    "\n",
    "#                                  f(0) f'(0)                       f''(0)   f(T)      f'(T)  f''(T)       T          \n",
    "lfoot_x_trayectory = trayectory_pol(0, step_length/int(n_timesteps/2),0,   step_length,  0,    0,  int(n_timesteps/2))\n",
    "lfoot_y_trayectory = trayectory_pol(0,    0,                          0,        0,       0,    0,  int(n_timesteps/2))\n",
    "lfoot_z_trayectory = trayectory_pol(0,    0,                          0,   step_height, 0,    0,  int(n_timesteps/2))\n",
    "\n",
    "for t in range(int(n_timesteps/2)):\n",
    "    p.stepSimulation()\n",
    "    \n",
    "    lfoot_trajectory = np.array([lfoot_x_trayectory(t),\n",
    "                                 lfoot_y_trayectory(t),\n",
    "                                 lfoot_z_trayectory(t)])\n",
    "\n",
    "    \n",
    "    printProgressBar(n_timesteps/2+t+1, n_timesteps, prefix = 'Progress:', suffix = 'Lowering Foot', length = 20)\n",
    "    \n",
    "    com_l_t = com_l_1 + lfoot_trajectory\n",
    "    \n",
    "    leftLegAngles=ik.ll_com_from_foot(com_l_t ,orientation)\n",
    "\n",
    "    l_angles_plot.append(leftLegAngles)\n",
    "    r_angles_plot.append(rightLegAngles)\n",
    "    rfoot_plot.append(rfoot_trajectory + rfoot_trajectory0)\n",
    "    com_plot.append(com_r_t)\n",
    "    \n",
    "    for i, index in enumerate(leftLegIndices):\n",
    "        if not np.isnan(leftLegAngles[i]):\n",
    "            targetPos[index]=leftLegAngles[i]\n",
    "\n",
    "    p.setJointMotorControlArray(teoId,\n",
    "                                jointIndices, \n",
    "                                controlMode=mode,\n",
    "                                forces=maxForces,\n",
    "                                targetVelocities = maxVelocities,\n",
    "                                targetPositions = targetPos\n",
    "                               )\n",
    "\n",
    "    time.sleep(timestep)\n",
    "\n",
    "com_r_0 = com_r_t\n",
    "com_l_0 = com_l_t"
   ]
  },
  {
   "cell_type": "code",
   "execution_count": 33,
   "metadata": {},
   "outputs": [],
   "source": [
    "l_angles_plot = np.array(l_angles_plot)\n",
    "r_angles_plot = np.array(r_angles_plot)"
   ]
  },
  {
   "cell_type": "code",
   "execution_count": 34,
   "metadata": {},
   "outputs": [
    {
     "data": {
      "image/png": "[encoded data removed]",
      "text/plain": [
       "<Figure size 972x756 with 1 Axes>"
      ]
     },
     "metadata": {
      "needs_background": "dark"
     },
     "output_type": "display_data"
    },
    {
     "data": {
      "image/png": "[encoded data removed]",
      "text/plain": [
       "<Figure size 972x756 with 1 Axes>"
      ]
     },
     "metadata": {
      "needs_background": "dark"
     },
     "output_type": "display_data"
    },
    {
     "data": {
      "image/png": "[encoded data removed]",
      "text/plain": [
       "<Figure size 972x756 with 1 Axes>"
      ]
     },
     "metadata": {
      "needs_background": "dark"
     },
     "output_type": "display_data"
    },
    {
     "data": {
      "image/png": "[encoded data removed]",
      "text/plain": [
       "<Figure size 972x756 with 1 Axes>"
      ]
     },
     "metadata": {
      "needs_background": "dark"
     },
     "output_type": "display_data"
    },
    {
     "data": {
      "image/png": "[encoded data removed]",
      "text/plain": [
       "<Figure size 972x756 with 1 Axes>"
      ]
     },
     "metadata": {
      "needs_background": "dark"
     },
     "output_type": "display_data"
    },
    {
     "data": {
      "image/png": "[encoded data removed]",
      "text/plain": [
       "<Figure size 972x756 with 1 Axes>"
      ]
     },
     "metadata": {
      "needs_background": "dark"
     },
     "output_type": "display_data"
    }
   ],
   "source": [
    "for i in range(r_angles_plot.shape[1]):\n",
    "    plt.plot(r_angles_plot[:,i])\n",
    "    plt.plot([p.getJointInfo(teoId, rightLegIndices[i])[8]]*r_angles_plot.shape[0],'r--')\n",
    "    plt.plot([p.getJointInfo(teoId, rightLegIndices[i])[9]]*r_angles_plot.shape[0],'r--')\n",
    "    plt.legend([['r_ankle_roll',\n",
    "                'r_ankle_pitch',\n",
    "                'r_knee_pitch',\n",
    "                'r_hip_pitch',\n",
    "                'r_hip_roll',\n",
    "                'r_hip_yaw'][i], \"joint limit\"])\n",
    "    fig = plt.gcf()\n",
    "    fig.set_size_inches(13.5, 10.5)\n",
    "    fig.savefig('r_joint_trajectory_'+str(i)+'.png', dpi=100)\n",
    "    plt.show()"
   ]
  },
  {
   "cell_type": "code",
   "execution_count": 35,
   "metadata": {},
   "outputs": [
    {
     "data": {
      "image/png": "[encoded data removed]",
      "text/plain": [
       "<Figure size 972x756 with 1 Axes>"
      ]
     },
     "metadata": {
      "needs_background": "dark"
     },
     "output_type": "display_data"
    },
    {
     "data": {
      "image/png": "[encoded data removed]",
      "text/plain": [
       "<Figure size 972x756 with 1 Axes>"
      ]
     },
     "metadata": {
      "needs_background": "dark"
     },
     "output_type": "display_data"
    },
    {
     "data": {
      "image/png": "[encoded data removed]",
      "text/plain": [
       "<Figure size 972x756 with 1 Axes>"
      ]
     },
     "metadata": {
      "needs_background": "dark"
     },
     "output_type": "display_data"
    },
    {
     "data": {
      "image/png": "[encoded data removed]",
      "text/plain": [
       "<Figure size 972x756 with 1 Axes>"
      ]
     },
     "metadata": {
      "needs_background": "dark"
     },
     "output_type": "display_data"
    },
    {
     "data": {
      "image/png": "[encoded data removed]",
      "text/plain": [
       "<Figure size 972x756 with 1 Axes>"
      ]
     },
     "metadata": {
      "needs_background": "dark"
     },
     "output_type": "display_data"
    },
    {
     "data": {
      "image/png": "[encoded data removed]",
      "text/plain": [
       "<Figure size 972x756 with 1 Axes>"
      ]
     },
     "metadata": {
      "needs_background": "dark"
     },
     "output_type": "display_data"
    }
   ],
   "source": [
    "for i in range(l_angles_plot.shape[1]):\n",
    "    plt.plot(l_angles_plot[:,i])\n",
    "    plt.plot([p.getJointInfo(teoId, leftLegIndices[i])[8]]*l_angles_plot.shape[0],'r--')\n",
    "    plt.plot([p.getJointInfo(teoId, leftLegIndices[i])[9]]*l_angles_plot.shape[0],'r--')\n",
    "    plt.legend([['l_ankle_roll',\n",
    "                'l_ankle_pitch',\n",
    "                'l_knee_pitch',\n",
    "                'l_hip_pitch',\n",
    "                'l_hip_roll',\n",
    "                'l_hip_yaw'][i], \"joint limit\"])\n",
    "    fig = plt.gcf()\n",
    "    fig.set_size_inches(13.5, 10.5)\n",
    "    fig.savefig('l_joint_trajectory_'+str(i)+'.png', dpi=100)\n",
    "    plt.show()"
   ]
  },
  {
   "cell_type": "code",
   "execution_count": null,
   "metadata": {},
   "outputs": [],
   "source": []
  },
  {
   "cell_type": "code",
   "execution_count": 36,
   "metadata": {},
   "outputs": [],
   "source": [
    "def shift_weight(shift, duration):\n",
    "    n_timesteps = int(duration/timestep)\n",
    "    \n",
    "    \n",
    "    rightLegAngles = [a[0] for a in p.getJointStates(teoId, rightLegIndices)]\n",
    "    com_r_0 = ik.rl_fk_com_from_foot(rightLegAngles)\n",
    "    \n",
    "    leftLegAngles = [a[0] for a in p.getJointStates(teoId, leftLegIndices)]\n",
    "    com_l_0 = ik.ll_fk_com_from_foot(leftLegAngles)\n",
    "    \n",
    "    #                                   f(0) f'(0)  f''(0)       f(T)      f'(T)  f''(T)       T          \n",
    "    rfoot_x_trayectory = trayectory_pol( 0,   0,      0,      -shift[0],     0,     0,  int(n_timesteps))\n",
    "    rfoot_y_trayectory = trayectory_pol( 0,   0,      0,      -shift[1],     0,     0,  int(n_timesteps))\n",
    "    rfoot_z_trayectory = trayectory_pol( 0,   0,      0,       shift[2],     0,     0,  int(n_timesteps))\n",
    "\n",
    "    #                                   f(0) f'(0)  f''(0)       f(T)      f'(T)  f''(T)       T          \n",
    "    lfoot_x_trayectory = trayectory_pol( 0,   0,      0,      -shift[0],     0,     0,  int(n_timesteps))\n",
    "    lfoot_y_trayectory = trayectory_pol( 0,   0,      0,      -shift[1],     0,     0,  int(n_timesteps))\n",
    "    lfoot_z_trayectory = trayectory_pol( 0,   0,      0,       shift[2],     0,     0,  int(n_timesteps))\n",
    "\n",
    "\n",
    "    for t in range(n_timesteps):\n",
    "        \n",
    "        rfoot_trajectory = np.array([rfoot_x_trayectory(t),\n",
    "                                     rfoot_y_trayectory(t),\n",
    "                                     rfoot_z_trayectory(t)])\n",
    "\n",
    "        lfoot_trajectory = np.array([lfoot_x_trayectory(t),\n",
    "                                     lfoot_y_trayectory(t),\n",
    "                                     lfoot_z_trayectory(t)])\n",
    "\n",
    "        com_r_t = com_r_0 + rfoot_trajectory\n",
    "        com_l_t = com_l_0 + lfoot_trajectory\n",
    "\n",
    "        rightLegAngles = ik.rl_com_from_foot(com_r_t ,orientation)\n",
    "        leftLegAngles  = ik.ll_com_from_foot(com_l_t ,orientation)\n",
    "\n",
    "        for i, index in enumerate(rightLegIndices):\n",
    "            if not np.isnan(rightLegAngles[i]):\n",
    "                targetPos[index]=rightLegAngles[i]\n",
    "\n",
    "        for i, index in enumerate(leftLegIndices):\n",
    "            if not np.isnan(leftLegAngles[i]):\n",
    "                targetPos[index]=leftLegAngles[i] \n",
    "\n",
    "        p.setJointMotorControlArray(teoId,\n",
    "                                    jointIndices, \n",
    "                                    controlMode=mode,\n",
    "                                    forces=maxForces,\n",
    "                                    targetVelocities = maxVelocities,\n",
    "                                    targetPositions = targetPos\n",
    "                                   )\n",
    "        time.sleep(timestep)\n",
    "\n",
    "\n",
    "\n",
    "def left_step(step_length, step_height, duration):\n",
    "    n_timesteps = int(duration/timestep)\n",
    "\n",
    "    #                                   f(0) f'(0)  f''(0)             f(T)               f'(T)                 f''(T)       T          \n",
    "    lfoot_x_trayectory = trayectory_pol( 0,   0,      0,           step_length,  step_length/int(n_timesteps/2),  0,  int(n_timesteps/2))\n",
    "    lfoot_y_trayectory = trayectory_pol( 0,   0,      0,                0,                  0,                    0,  int(n_timesteps/2))\n",
    "    lfoot_z_trayectory = trayectory_pol( 0,   0,      0,          -step_height,             0,                    0,  int(n_timesteps/2))\n",
    "\n",
    "    for t in range(int(n_timesteps/2)):\n",
    "        lfoot_trajectory = np.array([lfoot_x_trayectory(t),\n",
    "                                     lfoot_y_trayectory(t),\n",
    "                                     lfoot_z_trayectory(t)])\n",
    "\n",
    "        com_l_t = com_l_0 + lfoot_trajectory\n",
    "        leftLegAngles=ik.ll_com_from_foot(com_l_t ,orientation)\n",
    "\n",
    "        for i, index in enumerate(leftLegIndices):\n",
    "            if not np.isnan(leftLegAngles[i]):\n",
    "                targetPos[index]=leftLegAngles[i]\n",
    "\n",
    "        p.setJointMotorControlArray(teoId,\n",
    "                                    jointIndices, \n",
    "                                    controlMode=mode,\n",
    "                                    forces=maxForces,\n",
    "                                    targetVelocities = maxVelocities,\n",
    "                                    targetPositions = targetPos\n",
    "                                   )\n",
    "        time.sleep(timestep)\n",
    "\n",
    "    lfoot_trajectory0 = lfoot_trajectory\n",
    "\n",
    "    com_l_1 = com_l_t\n",
    "    \n",
    "    #                                  f(0) f'(0)                       f''(0)   f(T)      f'(T)  f''(T)       T          \n",
    "    lfoot_x_trayectory = trayectory_pol(0, step_length/int(n_timesteps/2),0,   step_length,  0,    0,  int(n_timesteps/2))\n",
    "    lfoot_y_trayectory = trayectory_pol(0,    0,                          0,        0,       0,    0,  int(n_timesteps/2))\n",
    "    lfoot_z_trayectory = trayectory_pol(0,    0,                          0,   step_height, 0,    0,  int(n_timesteps/2))\n",
    "\n",
    "    for t in range(int(n_timesteps/2)):\n",
    "        lfoot_trajectory = np.array([lfoot_x_trayectory(t),\n",
    "                                     lfoot_y_trayectory(t),\n",
    "                                     lfoot_z_trayectory(t)])\n",
    "        com_l_t = com_l_1 + lfoot_trajectory\n",
    "        leftLegAngles=ik.ll_com_from_foot(com_l_t ,orientation)\n",
    "\n",
    "        for i, index in enumerate(leftLegIndices):\n",
    "            if not np.isnan(leftLegAngles[i]):\n",
    "                targetPos[index]=leftLegAngles[i]\n",
    "        p.setJointMotorControlArray(teoId,\n",
    "                                    jointIndices, \n",
    "                                    controlMode=mode,\n",
    "                                    forces=maxForces,\n",
    "                                    targetVelocities = maxVelocities,\n",
    "                                    targetPositions = targetPos\n",
    "                                   )\n",
    "        time.sleep(timestep)"
   ]
  },
  {
   "cell_type": "code",
   "execution_count": 37,
   "metadata": {},
   "outputs": [],
   "source": [
    "p.setRealTimeSimulation(True)"
   ]
  },
  {
   "cell_type": "code",
   "execution_count": 38,
   "metadata": {},
   "outputs": [
    {
     "ename": "NameError",
     "evalue": "name 'shift_weightf' is not defined",
     "output_type": "error",
     "traceback": [
      "\u001b[0;31m---------------------------------------------------------------------------\u001b[0m",
      "\u001b[0;31mNameError\u001b[0m                                 Traceback (most recent call last)",
      "\u001b[0;32m<ipython-input-38-d7a76bd4e41b>\u001b[0m in \u001b[0;36m<module>\u001b[0;34m\u001b[0m\n\u001b[0;32m----> 1\u001b[0;31m \u001b[0mshift_weightf\u001b[0m\u001b[0;34m\u001b[0m\u001b[0m\n\u001b[0m",
      "\u001b[0;31mNameError\u001b[0m: name 'shift_weightf' is not defined"
     ]
    }
   ],
   "source": [
    "shift_weightf"
   ]
  },
  {
   "cell_type": "code",
   "execution_count": null,
   "metadata": {},
   "outputs": [],
   "source": [
    "p.disconnect"
   ]
  },
  {
   "cell_type": "code",
   "execution_count": 40,
   "metadata": {},
   "outputs": [
    {
     "data": {
      "text/plain": [
       "array([-4.91059e-05, -3.01156e-01,  4.84968e-01, -1.83813e-01,\n",
       "        4.91141e-05, -3.57503e-06])"
      ]
     },
     "execution_count": 40,
     "metadata": {},
     "output_type": "execute_result"
    }
   ],
   "source": [
    "l_angles_plot[0]"
   ]
  },
  {
   "cell_type": "code",
   "execution_count": 50,
   "metadata": {},
   "outputs": [
    {
     "data": {
      "text/plain": [
       "[b'l_hip_yaw',\n",
       " b'l_hip_roll',\n",
       " b'l_hip_pitch',\n",
       " b'l_knee_pitch',\n",
       " b'l_ankle_pitch',\n",
       " b'l_ankle_roll']"
      ]
     },
     "execution_count": 50,
     "metadata": {},
     "output_type": "execute_result"
    }
   ],
   "source": []
  },
  {
   "cell_type": "code",
   "execution_count": 46,
   "metadata": {},
   "outputs": [
    {
     "data": {
      "text/plain": [
       "[b'r_ankle_roll',\n",
       " b'r_ankle_pitch',\n",
       " b'r_knee_pitch',\n",
       " b'r_hip_pitch',\n",
       " b'r_hip_roll',\n",
       " b'r_hip_yaw']"
      ]
     },
     "execution_count": 46,
     "metadata": {},
     "output_type": "execute_result"
    }
   ],
   "source": [
    "[p.getJointInfo(teoId, n)[1] for n in rightLegIndices]"
   ]
  },
  {
   "cell_type": "code",
   "execution_count": 66,
   "metadata": {},
   "outputs": [
    {
     "data": {
      "text/plain": [
       "[b'l_ankle_roll',\n",
       " b'l_ankle_pitch',\n",
       " b'l_knee_pitch',\n",
       " b'l_hip_pitch',\n",
       " b'l_hip_roll',\n",
       " b'l_hip_yaw']"
      ]
     },
     "execution_count": 66,
     "metadata": {},
     "output_type": "execute_result"
    }
   ],
   "source": [
    "l_angles_plot = l_angles_plot[::-1]\n",
    "leftLegIndices = leftLegIndices[::-1]\n",
    "[p.getJointInfo(teoId, n)[1] for n in leftLegIndices]"
   ]
  },
  {
   "cell_type": "code",
   "execution_count": 67,
   "metadata": {},
   "outputs": [
    {
     "data": {
      "text/plain": [
       "[b'r_ankle_roll',\n",
       " b'r_ankle_pitch',\n",
       " b'r_knee_pitch',\n",
       " b'r_hip_pitch',\n",
       " b'r_hip_roll',\n",
       " b'r_hip_yaw']"
      ]
     },
     "execution_count": 67,
     "metadata": {},
     "output_type": "execute_result"
    }
   ],
   "source": [
    "r_angles_plot = r_angles_plot[::-1]\n",
    "rightLegIndices = rightLegIndices[::-1]\n",
    "[p.getJointInfo(teoId, n)[1] for n in rightLegIndices]"
   ]
  },
  {
   "cell_type": "code",
   "execution_count": 69,
   "metadata": {},
   "outputs": [
    {
     "data": {
      "text/plain": [
       "array([[-4.91059e-05, -3.01156e-01,  4.84968e-01, ..., -1.83802e-01,\n",
       "         4.90997e-05, -2.84140e-06],\n",
       "       [-4.88425e-05, -3.01155e-01,  4.84967e-01, ..., -1.83802e-01,\n",
       "         4.88403e-05, -2.84140e-06],\n",
       "       [-4.70330e-05, -3.01155e-01,  4.84967e-01, ..., -1.83802e-01,\n",
       "         4.70408e-05, -2.84140e-06],\n",
       "       ...,\n",
       "       [-2.07963e-01, -1.01794e-01,  3.18965e-01, ..., -1.69960e-02,\n",
       "         2.06760e-01,  5.31121e-07],\n",
       "       [-2.07961e-01, -1.01740e-01,  3.18884e-01, ..., -1.69960e-02,\n",
       "         2.06760e-01,  5.31121e-07],\n",
       "       [-2.07961e-01, -1.01720e-01,  3.18854e-01, ..., -1.69960e-02,\n",
       "         2.06760e-01,  5.31121e-07]])"
      ]
     },
     "execution_count": 69,
     "metadata": {},
     "output_type": "execute_result"
    }
   ],
   "source": [
    "np.concatenate((l_angles_plot, r_angles_plot), axis=1)"
   ]
  },
  {
   "cell_type": "code",
   "execution_count": 70,
   "metadata": {},
   "outputs": [],
   "source": [
    "np.savetxt(\"gait_traj.csv\", np.concatenate((l_angles_plot, r_angles_plot), axis=1),  delimiter=',', fmt='%d')"
   ]
  },
  {
   "cell_type": "code",
   "execution_count": 64,
   "metadata": {},
   "outputs": [
    {
     "data": {
      "text/plain": [
       "array([-2.07961e-01, -1.01720e-01,  3.18854e-01, -2.17135e-01,\n",
       "        2.07961e-01, -1.05827e-06, -2.06760e-01, -1.16860e-01,\n",
       "        1.33856e-01, -1.69960e-02,  2.06760e-01,  5.31121e-07])"
      ]
     },
     "execution_count": 64,
     "metadata": {},
     "output_type": "execute_result"
    }
   ],
   "source": [
    "np.concatenate((l_angles_plot, r_angles_plot), axis=1)[0]"
   ]
  },
  {
   "cell_type": "code",
   "execution_count": null,
   "metadata": {},
   "outputs": [],
   "source": []
  }
 ],
 "metadata": {
  "kernelspec": {
   "display_name": "Python 3",
   "language": "python",
   "name": "python3"
  },
  "language_info": {
   "codemirror_mode": {
    "name": "ipython",
    "version": 3
   },
   "file_extension": ".py",
   "mimetype": "text/x-python",
   "name": "python",
   "nbconvert_exporter": "python",
   "pygments_lexer": "ipython3",
   "version": "3.5.2"
  }
 },
 "nbformat": 4,
 "nbformat_minor": 2
}
